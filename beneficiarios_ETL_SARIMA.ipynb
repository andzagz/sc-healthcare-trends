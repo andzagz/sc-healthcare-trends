{
  "nbformat": 4,
  "nbformat_minor": 0,
  "metadata": {
    "colab": {
      "provenance": [],
      "mount_file_id": "1UKNYUkep6_B4A-Cid9eX8mN5BSn_plmR",
      "authorship_tag": "ABX9TyM/tKX29WtESBGaPpZoM0xx",
      "include_colab_link": true
    },
    "kernelspec": {
      "name": "python3",
      "display_name": "Python 3"
    },
    "language_info": {
      "name": "python"
    }
  },
  "cells": [
    {
      "cell_type": "markdown",
      "metadata": {
        "id": "view-in-github",
        "colab_type": "text"
      },
      "source": [
        "<a href=\"https://colab.research.google.com/github/andzagz/sc-healthcare-trends/blob/main/beneficiarios_ETL_SARIMA.ipynb\" target=\"_parent\"><img src=\"https://colab.research.google.com/assets/colab-badge.svg\" alt=\"Open In Colab\"/></a>"
      ]
    },
    {
      "cell_type": "code",
      "execution_count": null,
      "metadata": {
        "id": "R404sh6QlS_V",
        "colab": {
          "base_uri": "https://localhost:8080/"
        },
        "outputId": "1385f934-ccac-4e2e-b51e-734432d4acff"
      },
      "outputs": [
        {
          "output_type": "stream",
          "name": "stdout",
          "text": [
            "                          Município   Jun/24   Mar/24   Dez/23   Set/23  \\\n",
            "0              420005 Abdon Batista      472      485      432      415   \n",
            "1               420010 Abelardo Luz     2063     2090     2093     2097   \n",
            "2                 420020 Agrolândia      484      491      486      463   \n",
            "3                 420030 Agronômica      445      448      451      446   \n",
            "4                  420040 Água Doce     1039     1038     1053     1040   \n",
            "..                              ...      ...      ...      ...      ...   \n",
            "292                   421985 Zortéa     1299     1306     1323     1315   \n",
            "293  420000 Município ignorado - SC       11       12       12       12   \n",
            "294           421265-Pescaria Brava      321      330      335      262   \n",
            "295         422000-Balneário Rincão      695      705      646      559   \n",
            "296                           Total  1680361  1665135  1666591  1659777   \n",
            "\n",
            "      Jun/23   Mar/23   Dez/22   Set/22   Jun/22  ...   Jun/12   Mar/12  \\\n",
            "0        431      419      427      424      351  ...      287      312   \n",
            "1       2123     2162     2180     2142     2065  ...     1250     1226   \n",
            "2        470      475      465      459      454  ...      336      322   \n",
            "3        444      440      433      424      399  ...      219      226   \n",
            "4       1020     1020     1024     1025     1035  ...      746      735   \n",
            "..       ...      ...      ...      ...      ...  ...      ...      ...   \n",
            "292     1321     1304     1335     1350     1360  ...     2671     2675   \n",
            "293       12       12       12       12       12  ...     1020     1124   \n",
            "294      231      214      191      154      147  ...        0        0   \n",
            "295      509      449      399      379      365  ...        0        0   \n",
            "296  1644599  1631000  1637082  1622927  1605048  ...  1382647  1363827   \n",
            "\n",
            "      Dez/11   Set/11   Jun/11   Mar/11   Dez/10   Set/10   Jun/10   Mar/10  \n",
            "0        317      337      327      388      375      344      294      294  \n",
            "1       1433     1180     1008     1002     1008      958      964      969  \n",
            "2        441      447      455      448      438      436      431      417  \n",
            "3        280      270      264      258      257      250      243      243  \n",
            "4        936      941      924      905      894      891      898      908  \n",
            "..       ...      ...      ...      ...      ...      ...      ...      ...  \n",
            "292     2701     2689     2666     2660     2619     2623     2616     2644  \n",
            "293     1384     1484     1607     1733     2135     2381     2734     3140  \n",
            "294        0        0        0        0        0        0        0        0  \n",
            "295        0        0        0        0        0        0        0        0  \n",
            "296  1523886  1504128  1507540  1501963  1480403  1458264  1443153  1417828  \n",
            "\n",
            "[297 rows x 58 columns]\n"
          ]
        }
      ],
      "source": [
        "import pandas as pd\n",
        "\n",
        "file_path = \"/content/drive/MyDrive/Colab Notebooks/Case beneficiarios/beneficiarios_municipio_vs_2024-2010.csv\"\n",
        "df = pd.read_csv(file_path, delimiter=';', engine='python', encoding='latin-1', skiprows=4)\n",
        "print(df)"
      ]
    },
    {
      "cell_type": "code",
      "source": [
        "# prompt: vamos modelar esse df para uma serie temporal, ele precisa ter a coluna Municípios e outra coluna com as datas como categorias no formato (mmaaaa), porem as datas estao distribuidas em colunas\n",
        "\n",
        "df = df.melt(id_vars=['Município'], var_name='Data', value_name='Beneficiarios')\n",
        "df['Data'] = df['Data'].str.replace('\\/', '')\n",
        "print(df)\n"
      ],
      "metadata": {
        "colab": {
          "base_uri": "https://localhost:8080/"
        },
        "id": "EShzLJeWqfbn",
        "outputId": "84bdcae0-118d-4ff2-a7aa-b92cfe77b173"
      },
      "execution_count": null,
      "outputs": [
        {
          "output_type": "stream",
          "name": "stdout",
          "text": [
            "                            Município    Data  Beneficiarios\n",
            "0                420005 Abdon Batista  Jun/24            472\n",
            "1                 420010 Abelardo Luz  Jun/24           2063\n",
            "2                   420020 Agrolândia  Jun/24            484\n",
            "3                   420030 Agronômica  Jun/24            445\n",
            "4                    420040 Água Doce  Jun/24           1039\n",
            "...                               ...     ...            ...\n",
            "16924                   421985 Zortéa  Mar/10           2644\n",
            "16925  420000 Município ignorado - SC  Mar/10           3140\n",
            "16926           421265-Pescaria Brava  Mar/10              0\n",
            "16927         422000-Balneário Rincão  Mar/10              0\n",
            "16928                           Total  Mar/10        1417828\n",
            "\n",
            "[16929 rows x 3 columns]\n"
          ]
        }
      ]
    },
    {
      "cell_type": "code",
      "source": [
        "import pandas as pd\n",
        "\n",
        "# Dicionário para traduzir os meses do português para o inglês\n",
        "month_translation = {\n",
        "    'Jan': 'Jan', 'Fev': 'Feb', 'Mar': 'Mar', 'Abr': 'Apr',\n",
        "    'Mai': 'May', 'Jun': 'Jun', 'Jul': 'Jul', 'Ago': 'Aug',\n",
        "    'Set': 'Sep', 'Out': 'Oct', 'Nov': 'Nov', 'Dez': 'Dec'\n",
        "}\n",
        "\n",
        "# Substituindo os nomes dos meses\n",
        "df['Data'] = df['Data'].replace(month_translation, regex=True)\n",
        "\n",
        "# Convertendo para datetime\n",
        "df['Data'] = pd.to_datetime(df['Data'], format='%b/%y')\n",
        "\n",
        "# Exibindo o DataFrame para verificar o resultado\n",
        "print(df)\n"
      ],
      "metadata": {
        "colab": {
          "base_uri": "https://localhost:8080/"
        },
        "id": "lr1gH5wmr4yt",
        "outputId": "9b055ca7-ec4f-42d7-ac19-c693f4d1b90c"
      },
      "execution_count": null,
      "outputs": [
        {
          "output_type": "stream",
          "name": "stdout",
          "text": [
            "                            Município       Data  Beneficiarios\n",
            "0                420005 Abdon Batista 2024-06-01            472\n",
            "1                 420010 Abelardo Luz 2024-06-01           2063\n",
            "2                   420020 Agrolândia 2024-06-01            484\n",
            "3                   420030 Agronômica 2024-06-01            445\n",
            "4                    420040 Água Doce 2024-06-01           1039\n",
            "...                               ...        ...            ...\n",
            "16924                   421985 Zortéa 2010-03-01           2644\n",
            "16925  420000 Município ignorado - SC 2010-03-01           3140\n",
            "16926           421265-Pescaria Brava 2010-03-01              0\n",
            "16927         422000-Balneário Rincão 2010-03-01              0\n",
            "16928                           Total 2010-03-01        1417828\n",
            "\n",
            "[16929 rows x 3 columns]\n"
          ]
        }
      ]
    },
    {
      "cell_type": "code",
      "source": [
        "# prompt: exclua a linha \"Total\"\n",
        "\n",
        "df = df[df['Município'] != 'Total']\n",
        "print(df)\n"
      ],
      "metadata": {
        "colab": {
          "base_uri": "https://localhost:8080/"
        },
        "id": "uH2LvYkIvYlz",
        "outputId": "be40c8b9-685d-4317-9a36-005cb088603e"
      },
      "execution_count": null,
      "outputs": [
        {
          "output_type": "stream",
          "name": "stdout",
          "text": [
            "                            Município       Data  Beneficiarios\n",
            "0                420005 Abdon Batista 2024-06-01            472\n",
            "1                 420010 Abelardo Luz 2024-06-01           2063\n",
            "2                   420020 Agrolândia 2024-06-01            484\n",
            "3                   420030 Agronômica 2024-06-01            445\n",
            "4                    420040 Água Doce 2024-06-01           1039\n",
            "...                               ...        ...            ...\n",
            "16923                    421970 Xaxim 2010-03-01           1356\n",
            "16924                   421985 Zortéa 2010-03-01           2644\n",
            "16925  420000 Município ignorado - SC 2010-03-01           3140\n",
            "16926           421265-Pescaria Brava 2010-03-01              0\n",
            "16927         422000-Balneário Rincão 2010-03-01              0\n",
            "\n",
            "[16872 rows x 3 columns]\n"
          ]
        }
      ]
    },
    {
      "cell_type": "code",
      "source": [
        "# prompt: transforme a primeira coluna em duas, a primeira se chamara id-municipio e a segunda Municípios. na primeira, os valores serão os 6 primeiros numeros da coluna ogirinal. na segunda, os valores serão os caracteres a partir dos 7 primeiros caracteres da coluna original\n",
        "\n",
        "df[['id-municipio','Municípios']] = df['Município'].str.extract(r'(\\d{6})(.*)')\n",
        "print(df)\n"
      ],
      "metadata": {
        "colab": {
          "base_uri": "https://localhost:8080/"
        },
        "id": "Ic0yl7sUvkL9",
        "outputId": "ea6a3b30-5fa8-498d-c51e-a9c2642082e6"
      },
      "execution_count": null,
      "outputs": [
        {
          "output_type": "stream",
          "name": "stdout",
          "text": [
            "                            Município       Data  Beneficiarios id-municipio  \\\n",
            "0                420005 Abdon Batista 2024-06-01            472       420005   \n",
            "1                 420010 Abelardo Luz 2024-06-01           2063       420010   \n",
            "2                   420020 Agrolândia 2024-06-01            484       420020   \n",
            "3                   420030 Agronômica 2024-06-01            445       420030   \n",
            "4                    420040 Água Doce 2024-06-01           1039       420040   \n",
            "...                               ...        ...            ...          ...   \n",
            "16923                    421970 Xaxim 2010-03-01           1356       421970   \n",
            "16924                   421985 Zortéa 2010-03-01           2644       421985   \n",
            "16925  420000 Município ignorado - SC 2010-03-01           3140       420000   \n",
            "16926           421265-Pescaria Brava 2010-03-01              0       421265   \n",
            "16927         422000-Balneário Rincão 2010-03-01              0       422000   \n",
            "\n",
            "                     Municípios  \n",
            "0                 Abdon Batista  \n",
            "1                  Abelardo Luz  \n",
            "2                    Agrolândia  \n",
            "3                    Agronômica  \n",
            "4                     Água Doce  \n",
            "...                         ...  \n",
            "16923                     Xaxim  \n",
            "16924                    Zortéa  \n",
            "16925   Município ignorado - SC  \n",
            "16926           -Pescaria Brava  \n",
            "16927         -Balneário Rincão  \n",
            "\n",
            "[16872 rows x 5 columns]\n"
          ]
        }
      ]
    },
    {
      "cell_type": "code",
      "source": [
        "# prompt: tire a primeira coluna\n",
        "\n",
        "df = df.drop(columns=df.columns[0])\n",
        "print(df)\n"
      ],
      "metadata": {
        "colab": {
          "base_uri": "https://localhost:8080/"
        },
        "id": "hmCGYAKFwEzh",
        "outputId": "de8eef4f-6069-4153-90d7-201c67771e8a"
      },
      "execution_count": null,
      "outputs": [
        {
          "output_type": "stream",
          "name": "stdout",
          "text": [
            "            Data  Beneficiarios id-municipio                Municípios\n",
            "0     2024-06-01            472       420005             Abdon Batista\n",
            "1     2024-06-01           2063       420010              Abelardo Luz\n",
            "2     2024-06-01            484       420020                Agrolândia\n",
            "3     2024-06-01            445       420030                Agronômica\n",
            "4     2024-06-01           1039       420040                 Água Doce\n",
            "...          ...            ...          ...                       ...\n",
            "16923 2010-03-01           1356       421970                     Xaxim\n",
            "16924 2010-03-01           2644       421985                    Zortéa\n",
            "16925 2010-03-01           3140       420000   Município ignorado - SC\n",
            "16926 2010-03-01              0       421265           -Pescaria Brava\n",
            "16927 2010-03-01              0       422000         -Balneário Rincão\n",
            "\n",
            "[16872 rows x 4 columns]\n"
          ]
        }
      ]
    },
    {
      "cell_type": "code",
      "source": [
        "# prompt: me deixe ver os valores distindos da coluna 4\n",
        "\n",
        "print(df.iloc[:, 3].unique())\n"
      ],
      "metadata": {
        "colab": {
          "base_uri": "https://localhost:8080/"
        },
        "id": "ywiboR2RwLes",
        "outputId": "6715f7f1-f8f1-44c9-a7b3-935a589d5454"
      },
      "execution_count": null,
      "outputs": [
        {
          "output_type": "stream",
          "name": "stdout",
          "text": [
            "[' Abdon Batista' ' Abelardo Luz' ' Agrolândia' ' Agronômica' ' Água Doce'\n",
            " ' Águas de Chapecó' ' Águas Frias' ' Águas Mornas' ' Alfredo Wagner'\n",
            " ' Alto Bela Vista' ' Anchieta' ' Angelina' ' Anita Garibaldi'\n",
            " ' Anitápolis' ' Antônio Carlos' ' Apiúna' ' Arabutã' ' Araquari'\n",
            " ' Araranguá' ' Armazém' ' Arroio Trinta' ' Arvoredo' ' Ascurra'\n",
            " ' Atalanta' ' Aurora' ' Balneário Arroio do Silva'\n",
            " ' Balneário Barra do Sul' ' Balneário Camboriú' ' Balneário Gaivota'\n",
            " ' Balneário Piçarras' ' Bandeirante' ' Barra Bonita' ' Barra Velha'\n",
            " ' Bela Vista do Toldo' ' Belmonte' ' Benedito Novo' ' Biguaçu'\n",
            " ' Blumenau' ' Bocaina do Sul' ' Bom Jardim da Serra' ' Bom Jesus'\n",
            " ' Bom Jesus do Oeste' ' Bom Retiro' ' Bombinhas' ' Botuverá'\n",
            " ' Braço do Norte' ' Braço do Trombudo' ' Brunópolis' ' Brusque'\n",
            " ' Caçador' ' Caibi' ' Calmon' ' Camboriú' ' Campo Alegre'\n",
            " ' Campo Belo do Sul' ' Campo Erê' ' Campos Novos' ' Canelinha'\n",
            " ' Canoinhas' ' Capão Alto' ' Capinzal' ' Capivari de Baixo' ' Catanduvas'\n",
            " ' Caxambu do Sul' ' Celso Ramos' ' Cerro Negro' ' Chapadão do Lageado'\n",
            " ' Chapecó' ' Cocal do Sul' ' Concórdia' ' Cordilheira Alta'\n",
            " ' Coronel Freitas' ' Coronel Martins' ' Correia Pinto' ' Corupá'\n",
            " ' Criciúma' ' Cunha Porã' ' Cunhataí' ' Curitibanos' ' Descanso'\n",
            " ' Dionísio Cerqueira' ' Dona Emma' ' Doutor Pedrinho' ' Entre Rios'\n",
            " ' Ermo' ' Erval Velho' ' Faxinal dos Guedes' ' Flor do Sertão'\n",
            " ' Florianópolis' ' Formosa do Sul' ' Forquilhinha' ' Fraiburgo'\n",
            " ' Frei Rogério' ' Galvão' ' Garopaba' ' Garuva' ' Gaspar'\n",
            " ' Governador Celso Ramos' ' Grão Pará' ' Gravatal' ' Guabiruba'\n",
            " ' Guaraciaba' ' Guaramirim' ' Guarujá do Sul' ' Guatambú'\n",
            " \" Herval d'Oeste\" ' Ibiam' ' Ibicaré' ' Ibirama' ' Içara' ' Ilhota'\n",
            " ' Imaruí' ' Imbituba' ' Imbuia' ' Indaial' ' Iomerê' ' Ipira'\n",
            " ' Iporã do Oeste' ' Ipuaçu' ' Ipumirim' ' Iraceminha' ' Irani' ' Irati'\n",
            " ' Irineópolis' ' Itá' ' Itaiópolis' ' Itajaí' ' Itapema' ' Itapiranga'\n",
            " ' Itapoá' ' Ituporanga' ' Jaborá' ' Jacinto Machado' ' Jaguaruna'\n",
            " ' Jaraguá do Sul' ' Jardinópolis' ' Joaçaba' ' Joinville' ' José Boiteux'\n",
            " ' Jupiá' ' Lacerdópolis' ' Lages' ' Laguna' ' Lajeado Grande'\n",
            " ' Laurentino' ' Lauro Muller' ' Lebon Régis' ' Leoberto Leal'\n",
            " ' Lindóia do Sul' ' Lontras' ' Luiz Alves' ' Luzerna' ' Macieira'\n",
            " ' Mafra' ' Major Gercino' ' Major Vieira' ' Maracajá' ' Maravilha'\n",
            " ' Marema' ' Massaranduba' ' Matos Costa' ' Meleiro' ' Mirim Doce'\n",
            " ' Modelo' ' Mondaí' ' Monte Carlo' ' Monte Castelo' ' Morro da Fumaça'\n",
            " ' Morro Grande' ' Navegantes' ' Nova Erechim' ' Nova Itaberaba'\n",
            " ' Nova Trento' ' Nova Veneza' ' Novo Horizonte' ' Orleans'\n",
            " ' Otacílio Costa' ' Ouro' ' Ouro Verde' ' Paial' ' Painel' ' Palhoça'\n",
            " ' Palma Sola' ' Palmeira' ' Palmitos' ' Papanduva' ' Paraíso'\n",
            " ' Passo de Torres' ' Passos Maia' ' Paulo Lopes' ' Pedras Grandes'\n",
            " ' Penha' ' Peritiba' ' Petrolândia' ' Pinhalzinho' ' Pinheiro Preto'\n",
            " ' Piratuba' ' Planalto Alegre' ' Pomerode' ' Ponte Alta'\n",
            " ' Ponte Alta do Norte' ' Ponte Serrada' ' Porto Belo' ' Porto União'\n",
            " ' Pouso Redondo' ' Praia Grande' ' Presidente Castello Branco'\n",
            " ' Presidente Getúlio' ' Presidente Nereu' ' Princesa' ' Quilombo'\n",
            " ' Rancho Queimado' ' Rio das Antas' ' Rio do Campo' ' Rio do Oeste'\n",
            " ' Rio do Sul' ' Rio dos Cedros' ' Rio Fortuna' ' Rio Negrinho'\n",
            " ' Rio Rufino' ' Riqueza' ' Rodeio' ' Romelândia' ' Salete' ' Saltinho'\n",
            " ' Salto Veloso' ' Sangão' ' Santa Cecília' ' Santa Helena'\n",
            " ' Santa Rosa de Lima' ' Santa Rosa do Sul' ' Santa Terezinha'\n",
            " ' Santa Terezinha do Progresso' ' Santiago do Sul'\n",
            " ' Santo Amaro da Imperatriz' ' São Bento do Sul' ' São Bernardino'\n",
            " ' São Bonifácio' ' São Carlos' ' São Cristovão do Sul' ' São Domingos'\n",
            " ' São Francisco do Sul' ' São João Batista' ' São João do Itaperiú'\n",
            " ' São João do Oeste' ' São João do Sul' ' São Joaquim' ' São José'\n",
            " ' São José do Cedro' ' São José do Cerrito' ' São Lourenço do Oeste'\n",
            " ' São Ludgero' ' São Martinho' ' São Miguel da Boa Vista'\n",
            " ' São Miguel do Oeste' ' São Pedro de Alcântara' ' Saudades' ' Schroeder'\n",
            " ' Seara' ' Serra Alta' ' Siderópolis' ' Sombrio' ' Sul Brasil' ' Taió'\n",
            " ' Tangará' ' Tigrinhos' ' Tijucas' ' Timbé do Sul' ' Timbó'\n",
            " ' Timbó Grande' ' Três Barras' ' Treviso' ' Treze de Maio'\n",
            " ' Treze Tílias' ' Trombudo Central' ' Tubarão' ' Tunápolis' ' Turvo'\n",
            " ' União do Oeste' ' Urubici' ' Urupema' ' Urussanga' ' Vargeão' ' Vargem'\n",
            " ' Vargem Bonita' ' Vidal Ramos' ' Videira' ' Vitor Meireles' ' Witmarsum'\n",
            " ' Xanxerê' ' Xavantina' ' Xaxim' ' Zortéa' ' Município ignorado - SC'\n",
            " '-Pescaria Brava' '-Balneário Rincão']\n"
          ]
        }
      ]
    },
    {
      "cell_type": "code",
      "source": [
        "# prompt: substitua as linhas '-Pescaria Brava' e '-Balneário Rincão' por 'Pescaria Brava' e 'Balneário Rincão', respectivamente. em seguida retire as linhas referentes ao valor ' Município ignorado - SC'\n",
        "# mostre o resultado\n",
        "\n",
        "df['Municípios'] = df['Municípios'].str.replace('-Pescaria Brava', 'Pescaria Brava')\n",
        "df['Municípios'] = df['Municípios'].str.replace('-Balneário Rincão', 'Balneário Rincão')\n",
        "\n",
        "df = df[df['Municípios'] != ' Município ignorado - SC']\n",
        "\n",
        "print(df)\n"
      ],
      "metadata": {
        "colab": {
          "base_uri": "https://localhost:8080/"
        },
        "id": "_xdqs_m4waj4",
        "outputId": "68e5492e-6cb4-4e44-97e3-5ccfeea3fb0c"
      },
      "execution_count": null,
      "outputs": [
        {
          "output_type": "stream",
          "name": "stdout",
          "text": [
            "            Data  Beneficiarios id-municipio        Municípios\n",
            "0     2024-06-01            472       420005     Abdon Batista\n",
            "1     2024-06-01           2063       420010      Abelardo Luz\n",
            "2     2024-06-01            484       420020        Agrolândia\n",
            "3     2024-06-01            445       420030        Agronômica\n",
            "4     2024-06-01           1039       420040         Água Doce\n",
            "...          ...            ...          ...               ...\n",
            "16922 2010-03-01            176       421960         Xavantina\n",
            "16923 2010-03-01           1356       421970             Xaxim\n",
            "16924 2010-03-01           2644       421985            Zortéa\n",
            "16926 2010-03-01              0       421265    Pescaria Brava\n",
            "16927 2010-03-01              0       422000  Balneário Rincão\n",
            "\n",
            "[16815 rows x 4 columns]\n"
          ]
        }
      ]
    },
    {
      "cell_type": "code",
      "source": [
        "# prompt: agora faça um novo df com os valores de beneficiarios somados para todos os municipios, ou seja, um novo df com a data e total de beneficiarios\n",
        "# plote um grafico de linhas também\n",
        "\n",
        "df_total = df.groupby('Data')['Beneficiarios'].sum()\n",
        "print(df_total)\n",
        "\n",
        "df_total.plot(x='Data', y='Beneficiarios', kind='line')\n"
      ],
      "metadata": {
        "colab": {
          "base_uri": "https://localhost:8080/",
          "height": 1000
        },
        "id": "vF54HFvswzSI",
        "outputId": "6a0d33e0-a60e-4955-ecd6-9731d0310107"
      },
      "execution_count": null,
      "outputs": [
        {
          "output_type": "stream",
          "name": "stdout",
          "text": [
            "Data\n",
            "2010-03-01    1414688\n",
            "2010-06-01    1440419\n",
            "2010-09-01    1455883\n",
            "2010-12-01    1478268\n",
            "2011-03-01    1500230\n",
            "2011-06-01    1505933\n",
            "2011-09-01    1502644\n",
            "2011-12-01    1522502\n",
            "2012-03-01    1362703\n",
            "2012-06-01    1381627\n",
            "2012-09-01    1392839\n",
            "2012-12-01    1406309\n",
            "2013-03-01    1375124\n",
            "2013-06-01    1396978\n",
            "2013-09-01    1424599\n",
            "2013-12-01    1440506\n",
            "2014-03-01    1467496\n",
            "2014-09-01    1509979\n",
            "2014-12-01    1520165\n",
            "2015-03-01    1525598\n",
            "2015-06-01    3065370\n",
            "2015-09-01    1520449\n",
            "2015-12-01    1515499\n",
            "2016-03-01    1466988\n",
            "2016-06-01    1485164\n",
            "2016-09-01    1486209\n",
            "2016-12-01    1488573\n",
            "2017-03-01    1484912\n",
            "2017-06-01    1488172\n",
            "2017-09-01    1493664\n",
            "2017-12-01    1504839\n",
            "2018-03-01    1492904\n",
            "2018-06-01    1501111\n",
            "2018-09-01    1506029\n",
            "2018-12-01    1505341\n",
            "2019-03-01    1477748\n",
            "2019-06-01    1503821\n",
            "2019-09-01    1485755\n",
            "2019-12-01    1471797\n",
            "2020-03-01    1469759\n",
            "2020-06-01    1457262\n",
            "2020-09-01    1462295\n",
            "2020-12-01    1495296\n",
            "2021-03-01    1497018\n",
            "2021-06-01    1515111\n",
            "2021-09-01    1552687\n",
            "2021-12-01    1576558\n",
            "2022-03-01    1584914\n",
            "2022-06-01    1605036\n",
            "2022-09-01    1622915\n",
            "2022-12-01    1637070\n",
            "2023-03-01    1630988\n",
            "2023-06-01    1644587\n",
            "2023-09-01    1659765\n",
            "2023-12-01    1666579\n",
            "2024-03-01    1665123\n",
            "2024-06-01    1680350\n",
            "Name: Beneficiarios, dtype: int64\n"
          ]
        },
        {
          "output_type": "execute_result",
          "data": {
            "text/plain": [
              "<Axes: xlabel='Data'>"
            ]
          },
          "metadata": {},
          "execution_count": 9
        },
        {
          "output_type": "display_data",
          "data": {
            "text/plain": [
              "<Figure size 640x480 with 1 Axes>"
            ],
            "image/png": "[encoded data removed]"
          },
          "metadata": {}
        }
      ]
    },
    {
      "cell_type": "code",
      "source": [
        "# prompt: considere apenas os dados a partir de 2016 no eixo x e indexe como meu eixo de data\n",
        "\n",
        "# Filtrar dados a partir de 2016\n",
        "df_2016 = df[df['Data'].dt.year >= 2021]\n",
        "\n",
        "# Definir a coluna 'Data' como índice\n",
        "df_2016 = df_2016.set_index('Data')\n",
        "\n",
        "# Plotar o gráfico\n",
        "df_total = df_2016.groupby('Data')['Beneficiarios'].sum()\n",
        "df_total.plot(x='Data', y='Beneficiarios', kind='line')\n",
        "print(df_total)\n"
      ],
      "metadata": {
        "colab": {
          "base_uri": "https://localhost:8080/",
          "height": 771
        },
        "id": "tyrtj7D8yrzf",
        "outputId": "0e06b5bd-4ef3-4f28-bc26-d689ec280054"
      },
      "execution_count": null,
      "outputs": [
        {
          "output_type": "stream",
          "name": "stdout",
          "text": [
            "Data\n",
            "2021-03-01    1497018\n",
            "2021-06-01    1515111\n",
            "2021-09-01    1552687\n",
            "2021-12-01    1576558\n",
            "2022-03-01    1584914\n",
            "2022-06-01    1605036\n",
            "2022-09-01    1622915\n",
            "2022-12-01    1637070\n",
            "2023-03-01    1630988\n",
            "2023-06-01    1644587\n",
            "2023-09-01    1659765\n",
            "2023-12-01    1666579\n",
            "2024-03-01    1665123\n",
            "2024-06-01    1680350\n",
            "Name: Beneficiarios, dtype: int64\n"
          ]
        },
        {
          "output_type": "display_data",
          "data": {
            "text/plain": [
              "<Figure size 640x480 with 1 Axes>"
            ],
            "image/png": "[encoded data removed]"
          },
          "metadata": {}
        }
      ]
    },
    {
      "cell_type": "code",
      "source": [
        "import pandas as pd\n",
        "from sklearn.model_selection import train_test_split\n",
        "from statsmodels.tsa.statespace.sarimax import SARIMAX\n",
        "from sklearn.metrics import mean_squared_error, mean_absolute_error\n",
        "\n",
        "# Definir o último dia do mês para cada trimestre\n",
        "df_total.index = df_total.index.to_period('Q').to_timestamp(how='E')\n",
        "\n",
        "# Exibir o DataFrame com a frequência trimestral\n",
        "print(df_total)\n"
      ],
      "metadata": {
        "colab": {
          "base_uri": "https://localhost:8080/"
        },
        "id": "dx_evY_rRd7l",
        "outputId": "9780ca9c-26de-4509-91ca-d79d2d791b4f"
      },
      "execution_count": null,
      "outputs": [
        {
          "output_type": "stream",
          "name": "stdout",
          "text": [
            "Data\n",
            "2021-03-31 23:59:59.999999999    1497018\n",
            "2021-06-30 23:59:59.999999999    1515111\n",
            "2021-09-30 23:59:59.999999999    1552687\n",
            "2021-12-31 23:59:59.999999999    1576558\n",
            "2022-03-31 23:59:59.999999999    1584914\n",
            "2022-06-30 23:59:59.999999999    1605036\n",
            "2022-09-30 23:59:59.999999999    1622915\n",
            "2022-12-31 23:59:59.999999999    1637070\n",
            "2023-03-31 23:59:59.999999999    1630988\n",
            "2023-06-30 23:59:59.999999999    1644587\n",
            "2023-09-30 23:59:59.999999999    1659765\n",
            "2023-12-31 23:59:59.999999999    1666579\n",
            "2024-03-31 23:59:59.999999999    1665123\n",
            "2024-06-30 23:59:59.999999999    1680350\n",
            "Name: Beneficiarios, dtype: int64\n"
          ]
        }
      ]
    },
    {
      "cell_type": "code",
      "source": [
        "from statsmodels.tsa.statespace.sarimax import SARIMAX\n",
        "from sklearn.metrics import mean_squared_error, mean_absolute_error, r2_score\n",
        "import numpy as np\n",
        "import matplotlib.pyplot as plt\n",
        "\n",
        "# Dividindo os dados em 80% treino e 20% teste, mantendo a ordem temporal\n",
        "train_size = int(len(df_total) * 0.8)\n",
        "train_data = df_total.iloc[:train_size]\n",
        "test_data = df_total.iloc[train_size:]\n",
        "\n",
        "# Treinando o modelo SARIMA\n",
        "model = SARIMAX(train_data, order=(1, 1, 1), seasonal_order=(1, 1, 1, 12))\n",
        "model_fit = model.fit()\n",
        "\n",
        "# Fazendo previsões a partir de 2024\n",
        "# Certifique-se de que o índice da previsão corresponde ao intervalo do teste\n",
        "predictions = model_fit.predict(start=test_data.index[0], end=df_total.index[-1])\n",
        "\n",
        "# Avaliando o modelo\n",
        "mse = mean_squared_error(test_data, predictions.loc[test_data.index])\n",
        "rmse = np.sqrt(mse)\n",
        "mae = mean_absolute_error(test_data, predictions.loc[test_data.index])\n",
        "\n",
        "# Calculando o MAPE\n",
        "def mean_absolute_percentage_error(y_true, y_pred):\n",
        "    return np.mean(np.abs((y_true - y_pred) / y_true)) * 100\n",
        "mape = mean_absolute_percentage_error(test_data, predictions.loc[test_data.index])\n",
        "\n",
        "# Calculando o R²\n",
        "r2 = r2_score(test_data, predictions.loc[test_data.index])\n",
        "\n",
        "# Imprimindo as métricas\n",
        "print(f'MSE: {mse}')\n",
        "print(f'RMSE: {rmse}')\n",
        "print(f'MAE: {mae}')\n",
        "print(f'MAPE: {mape}')\n",
        "print(f'R²: {r2}')\n",
        "\n",
        "# Plotando o gráfico\n",
        "plt.figure(figsize=(12, 6))\n",
        "plt.plot(df_total.index, df_total, label='Real')\n",
        "plt.plot(predictions.index, predictions, label='Predito', linestyle='--')\n",
        "plt.legend()\n",
        "plt.title('Previsão de Beneficiários')\n",
        "plt.xlabel('Data')\n",
        "plt.ylabel('Beneficiários')\n",
        "plt.show()\n"
      ],
      "metadata": {
        "colab": {
          "base_uri": "https://localhost:8080/",
          "height": 820
        },
        "id": "5zalcoJJ1QyW",
        "outputId": "5b208550-a1e8-49fc-fe87-8835d7b1dc0b"
      },
      "execution_count": null,
      "outputs": [
        {
          "output_type": "stream",
          "name": "stderr",
          "text": [
            "/usr/local/lib/python3.10/dist-packages/statsmodels/tsa/base/tsa_model.py:473: ValueWarning: No frequency information was provided, so inferred frequency Q-DEC will be used.\n",
            "  self._init_dates(dates, freq)\n",
            "/usr/local/lib/python3.10/dist-packages/statsmodels/tsa/base/tsa_model.py:473: ValueWarning: No frequency information was provided, so inferred frequency Q-DEC will be used.\n",
            "  self._init_dates(dates, freq)\n",
            "/usr/local/lib/python3.10/dist-packages/statsmodels/tsa/statespace/sarimax.py:866: UserWarning: Too few observations to estimate starting parameters for ARMA and trend. All parameters except for variances will be set to zeros.\n",
            "  warn('Too few observations to estimate starting parameters%s.'\n",
            "/usr/local/lib/python3.10/dist-packages/statsmodels/tsa/statespace/sarimax.py:866: UserWarning: Too few observations to estimate starting parameters for seasonal ARMA. All parameters except for variances will be set to zeros.\n",
            "  warn('Too few observations to estimate starting parameters%s.'\n"
          ]
        },
        {
          "output_type": "stream",
          "name": "stdout",
          "text": [
            "MSE: 369620772780.4577\n",
            "RMSE: 607964.4502604224\n",
            "MAE: 498660.9161695419\n",
            "MAPE: 29.811942487190635\n",
            "R²: -7851.72647119462\n"
          ]
        },
        {
          "output_type": "display_data",
          "data": {
            "text/plain": [
              "<Figure size 1200x600 with 1 Axes>"
            ],
            "image/png": "[encoded data removed]"
          },
          "metadata": {}
        }
      ]
    },
    {
      "cell_type": "code",
      "source": [
        "!pip install optuna"
      ],
      "metadata": {
        "colab": {
          "base_uri": "https://localhost:8080/"
        },
        "id": "Y7pN1I4QDY4-",
        "outputId": "acf730b1-0e80-40e7-cb0e-6a84700d709f"
      },
      "execution_count": null,
      "outputs": [
        {
          "output_type": "stream",
          "name": "stdout",
          "text": [
            "Collecting optuna\n",
            "  Downloading optuna-4.0.0-py3-none-any.whl.metadata (16 kB)\n",
            "Collecting alembic>=1.5.0 (from optuna)\n",
            "  Downloading alembic-1.13.2-py3-none-any.whl.metadata (7.4 kB)\n",
            "Collecting colorlog (from optuna)\n",
            "  Downloading colorlog-6.8.2-py3-none-any.whl.metadata (10 kB)\n",
            "Requirement already satisfied: numpy in /usr/local/lib/python3.10/dist-packages (from optuna) (1.26.4)\n",
            "Requirement already satisfied: packaging>=20.0 in /usr/local/lib/python3.10/dist-packages (from optuna) (24.1)\n",
            "Requirement already satisfied: sqlalchemy>=1.3.0 in /usr/local/lib/python3.10/dist-packages (from optuna) (2.0.34)\n",
            "Requirement already satisfied: tqdm in /usr/local/lib/python3.10/dist-packages (from optuna) (4.66.5)\n",
            "Requirement already satisfied: PyYAML in /usr/local/lib/python3.10/dist-packages (from optuna) (6.0.2)\n",
            "Collecting Mako (from alembic>=1.5.0->optuna)\n",
            "  Downloading Mako-1.3.5-py3-none-any.whl.metadata (2.9 kB)\n",
            "Requirement already satisfied: typing-extensions>=4 in /usr/local/lib/python3.10/dist-packages (from alembic>=1.5.0->optuna) (4.12.2)\n",
            "Requirement already satisfied: greenlet!=0.4.17 in /usr/local/lib/python3.10/dist-packages (from sqlalchemy>=1.3.0->optuna) (3.1.0)\n",
            "Requirement already satisfied: MarkupSafe>=0.9.2 in /usr/local/lib/python3.10/dist-packages (from Mako->alembic>=1.5.0->optuna) (2.1.5)\n",
            "Downloading optuna-4.0.0-py3-none-any.whl (362 kB)\n",
            "\u001b[2K   \u001b[90m━━━━━━━━━━━━━━━━━━━━━━━━━━━━━━━━━━━━━━━━\u001b[0m \u001b[32m362.8/362.8 kB\u001b[0m \u001b[31m7.6 MB/s\u001b[0m eta \u001b[36m0:00:00\u001b[0m\n",
            "\u001b[?25hDownloading alembic-1.13.2-py3-none-any.whl (232 kB)\n",
            "\u001b[2K   \u001b[90m━━━━━━━━━━━━━━━━━━━━━━━━━━━━━━━━━━━━━━━━\u001b[0m \u001b[32m233.0/233.0 kB\u001b[0m \u001b[31m10.7 MB/s\u001b[0m eta \u001b[36m0:00:00\u001b[0m\n",
            "\u001b[?25hDownloading colorlog-6.8.2-py3-none-any.whl (11 kB)\n",
            "Downloading Mako-1.3.5-py3-none-any.whl (78 kB)\n",
            "\u001b[2K   \u001b[90m━━━━━━━━━━━━━━━━━━━━━━━━━━━━━━━━━━━━━━━━\u001b[0m \u001b[32m78.6/78.6 kB\u001b[0m \u001b[31m4.8 MB/s\u001b[0m eta \u001b[36m0:00:00\u001b[0m\n",
            "\u001b[?25hInstalling collected packages: Mako, colorlog, alembic, optuna\n",
            "Successfully installed Mako-1.3.5 alembic-1.13.2 colorlog-6.8.2 optuna-4.0.0\n"
          ]
        }
      ]
    },
    {
      "cell_type": "code",
      "source": [
        "import optuna\n",
        "from statsmodels.tsa.statespace.sarimax import SARIMAX\n",
        "from sklearn.metrics import mean_squared_error\n",
        "\n",
        "# Função de objetivo para otimização com Optuna\n",
        "def objective(trial):\n",
        "    try:\n",
        "        # Sugerindo valores para os hiperparâmetros SARIMA\n",
        "        p = trial.suggest_int('p', 0, 3)\n",
        "        d = trial.suggest_int('d', 0, 2)\n",
        "        q = trial.suggest_int('q', 0, 3)\n",
        "        P = trial.suggest_int('P', 0, 3)\n",
        "        D = trial.suggest_int('D', 0, 2)\n",
        "        Q = trial.suggest_int('Q', 0, 3)\n",
        "        s = trial.suggest_int('s', 1, 12)  # Mudando o mínimo para 1 para evitar problemas de sazonalidade zero\n",
        "\n",
        "        # Treinando o modelo SARIMA\n",
        "        model = SARIMAX(train_data,\n",
        "                        order=(p, d, q),\n",
        "                        seasonal_order=(P, D, Q, s))\n",
        "        model_fit = model.fit(disp=False)\n",
        "\n",
        "        # Fazendo previsões no conjunto de teste\n",
        "        predictions = model_fit.predict(start=test_data.index[0], end=test_data.index[-1])\n",
        "\n",
        "        # Calculando o erro MSE como métrica de avaliação\n",
        "        mse = mean_squared_error(test_data, predictions.loc[test_data.index])\n",
        "\n",
        "        return mse\n",
        "    except Exception as e:\n",
        "        print(f'Error in trial: {e}')\n",
        "        return float('inf')  # Retorna um valor alto se ocorrer um erro\n",
        "\n",
        "# Criando o estudo de otimização\n",
        "study = optuna.create_study(direction='minimize')\n",
        "study.optimize(objective, n_trials=50)  # Definindo o número de tentativas (trials)\n",
        "\n",
        "# Melhor combinação de parâmetros\n",
        "print('Best Parameters:', study.best_params)\n",
        "print('Best MSE:', study.best_value)\n",
        "\n",
        "# Treinando o modelo com os melhores parâmetros encontrados\n",
        "best_params = study.best_params\n",
        "best_model = SARIMAX(train_data,\n",
        "                     order=(best_params['p'], best_params['d'], best_params['q']),\n",
        "                     seasonal_order=(best_params['P'], best_params['D'], best_params['Q'], best_params['s']))\n",
        "best_model_fit = best_model.fit()\n",
        "\n",
        "# Fazendo previsões com o melhor modelo\n",
        "predictions_best = best_model_fit.predict(start=test_data.index[0], end=test_data.index[-1])\n",
        "\n",
        "# Avaliando o modelo final\n",
        "mse_best = mean_squared_error(test_data, predictions_best.loc[test_data.index])\n",
        "print(f'Best Model MSE: {mse_best}')\n"
      ],
      "metadata": {
        "colab": {
          "base_uri": "https://localhost:8080/"
        },
        "collapsed": true,
        "id": "I626nBnTMepp",
        "outputId": "ffd7e288-8253-4050-a83a-a2d3e1610003"
      },
      "execution_count": null,
      "outputs": [
        {
          "output_type": "stream",
          "name": "stderr",
          "text": [
            "[I 2024-09-16 23:56:32,082] A new study created in memory with name: no-name-af4289b2-b39e-41ce-9f27-e28ff3cafeb5\n",
            "[I 2024-09-16 23:56:32,091] Trial 0 finished with value: inf and parameters: {'p': 3, 'd': 1, 'q': 2, 'P': 1, 'D': 1, 'Q': 1, 's': 3}. Best is trial 0 with value: inf.\n",
            "/usr/local/lib/python3.10/dist-packages/statsmodels/tsa/base/tsa_model.py:473: ValueWarning: No frequency information was provided, so inferred frequency Q-DEC will be used.\n",
            "  self._init_dates(dates, freq)\n",
            "/usr/local/lib/python3.10/dist-packages/statsmodels/tsa/base/tsa_model.py:473: ValueWarning: No frequency information was provided, so inferred frequency Q-DEC will be used.\n",
            "  self._init_dates(dates, freq)\n",
            "[I 2024-09-16 23:56:32,109] Trial 1 finished with value: inf and parameters: {'p': 0, 'd': 0, 'q': 3, 'P': 2, 'D': 2, 'Q': 3, 's': 5}. Best is trial 0 with value: inf.\n",
            "/usr/local/lib/python3.10/dist-packages/statsmodels/tsa/base/tsa_model.py:473: ValueWarning: No frequency information was provided, so inferred frequency Q-DEC will be used.\n",
            "  self._init_dates(dates, freq)\n",
            "/usr/local/lib/python3.10/dist-packages/statsmodels/tsa/base/tsa_model.py:473: ValueWarning: No frequency information was provided, so inferred frequency Q-DEC will be used.\n",
            "  self._init_dates(dates, freq)\n",
            "/usr/local/lib/python3.10/dist-packages/statsmodels/tsa/statespace/sarimax.py:866: UserWarning: Too few observations to estimate starting parameters for ARMA and trend. All parameters except for variances will be set to zeros.\n",
            "  warn('Too few observations to estimate starting parameters%s.'\n",
            "/usr/local/lib/python3.10/dist-packages/statsmodels/tsa/statespace/sarimax.py:866: UserWarning: Too few observations to estimate starting parameters for seasonal ARMA. All parameters except for variances will be set to zeros.\n",
            "  warn('Too few observations to estimate starting parameters%s.'\n"
          ]
        },
        {
          "output_type": "stream",
          "name": "stdout",
          "text": [
            "Error in trial: Invalid model: autoregressive lag(s) {3} are in both the seasonal and non-seasonal autoregressive components.\n",
            "Error in trial: too many indices for array: array is 0-dimensional, but 1 were indexed\n"
          ]
        },
        {
          "output_type": "stream",
          "name": "stderr",
          "text": [
            "[I 2024-09-16 23:56:32,400] Trial 2 finished with value: 375025893123.6113 and parameters: {'p': 1, 'd': 0, 'q': 1, 'P': 3, 'D': 2, 'Q': 1, 's': 11}. Best is trial 2 with value: 375025893123.6113.\n",
            "/usr/local/lib/python3.10/dist-packages/statsmodels/tsa/base/tsa_model.py:473: ValueWarning: No frequency information was provided, so inferred frequency Q-DEC will be used.\n",
            "  self._init_dates(dates, freq)\n",
            "/usr/local/lib/python3.10/dist-packages/statsmodels/tsa/base/tsa_model.py:473: ValueWarning: No frequency information was provided, so inferred frequency Q-DEC will be used.\n",
            "  self._init_dates(dates, freq)\n",
            "/usr/local/lib/python3.10/dist-packages/statsmodels/tsa/statespace/sarimax.py:866: UserWarning: Too few observations to estimate starting parameters for ARMA and trend. All parameters except for variances will be set to zeros.\n",
            "  warn('Too few observations to estimate starting parameters%s.'\n",
            "/usr/local/lib/python3.10/dist-packages/statsmodels/tsa/statespace/sarimax.py:866: UserWarning: Too few observations to estimate starting parameters for seasonal ARMA. All parameters except for variances will be set to zeros.\n",
            "  warn('Too few observations to estimate starting parameters%s.'\n",
            "[I 2024-09-16 23:56:32,663] Trial 3 finished with value: 369620772780.4577 and parameters: {'p': 1, 'd': 1, 'q': 3, 'P': 3, 'D': 1, 'Q': 1, 's': 12}. Best is trial 3 with value: 369620772780.4577.\n",
            "/usr/local/lib/python3.10/dist-packages/statsmodels/tsa/base/tsa_model.py:473: ValueWarning: No frequency information was provided, so inferred frequency Q-DEC will be used.\n",
            "  self._init_dates(dates, freq)\n",
            "/usr/local/lib/python3.10/dist-packages/statsmodels/tsa/base/tsa_model.py:473: ValueWarning: No frequency information was provided, so inferred frequency Q-DEC will be used.\n",
            "  self._init_dates(dates, freq)\n",
            "/usr/local/lib/python3.10/dist-packages/statsmodels/tsa/statespace/sarimax.py:866: UserWarning: Too few observations to estimate starting parameters for ARMA and trend. All parameters except for variances will be set to zeros.\n",
            "  warn('Too few observations to estimate starting parameters%s.'\n",
            "/usr/local/lib/python3.10/dist-packages/statsmodels/tsa/statespace/sarimax.py:866: UserWarning: Too few observations to estimate starting parameters for seasonal ARMA. All parameters except for variances will be set to zeros.\n",
            "  warn('Too few observations to estimate starting parameters%s.'\n",
            "[I 2024-09-16 23:56:33,121] Trial 4 finished with value: 1495276417277.2654 and parameters: {'p': 3, 'd': 1, 'q': 2, 'P': 0, 'D': 2, 'Q': 3, 's': 12}. Best is trial 3 with value: 369620772780.4577.\n",
            "/usr/local/lib/python3.10/dist-packages/statsmodels/tsa/base/tsa_model.py:473: ValueWarning: No frequency information was provided, so inferred frequency Q-DEC will be used.\n",
            "  self._init_dates(dates, freq)\n",
            "/usr/local/lib/python3.10/dist-packages/statsmodels/tsa/base/tsa_model.py:473: ValueWarning: No frequency information was provided, so inferred frequency Q-DEC will be used.\n",
            "  self._init_dates(dates, freq)\n",
            "/usr/local/lib/python3.10/dist-packages/statsmodels/tsa/statespace/sarimax.py:866: UserWarning: Too few observations to estimate starting parameters for ARMA and trend. All parameters except for variances will be set to zeros.\n",
            "  warn('Too few observations to estimate starting parameters%s.'\n",
            "/usr/local/lib/python3.10/dist-packages/statsmodels/tsa/statespace/sarimax.py:866: UserWarning: Too few observations to estimate starting parameters for seasonal ARMA. All parameters except for variances will be set to zeros.\n",
            "  warn('Too few observations to estimate starting parameters%s.'\n",
            "[I 2024-09-16 23:56:36,114] Trial 5 finished with value: 675650035.1381303 and parameters: {'p': 0, 'd': 0, 'q': 2, 'P': 3, 'D': 1, 'Q': 3, 's': 7}. Best is trial 5 with value: 675650035.1381303.\n",
            "/usr/local/lib/python3.10/dist-packages/statsmodels/tsa/base/tsa_model.py:473: ValueWarning: No frequency information was provided, so inferred frequency Q-DEC will be used.\n",
            "  self._init_dates(dates, freq)\n",
            "/usr/local/lib/python3.10/dist-packages/statsmodels/tsa/base/tsa_model.py:473: ValueWarning: No frequency information was provided, so inferred frequency Q-DEC will be used.\n",
            "  self._init_dates(dates, freq)\n",
            "/usr/local/lib/python3.10/dist-packages/statsmodels/tsa/statespace/sarimax.py:966: UserWarning: Non-stationary starting autoregressive parameters found. Using zeros as starting parameters.\n",
            "  warn('Non-stationary starting autoregressive parameters'\n",
            "/usr/local/lib/python3.10/dist-packages/statsmodels/tsa/statespace/sarimax.py:866: UserWarning: Too few observations to estimate starting parameters for seasonal ARMA. All parameters except for variances will be set to zeros.\n",
            "  warn('Too few observations to estimate starting parameters%s.'\n",
            "/usr/local/lib/python3.10/dist-packages/statsmodels/base/model.py:607: ConvergenceWarning: Maximum Likelihood optimization failed to converge. Check mle_retvals\n",
            "  warnings.warn(\"Maximum Likelihood optimization failed to \"\n",
            "[I 2024-09-16 23:56:41,715] Trial 6 finished with value: 50214366.22378103 and parameters: {'p': 3, 'd': 0, 'q': 3, 'P': 0, 'D': 0, 'Q': 2, 's': 9}. Best is trial 6 with value: 50214366.22378103.\n",
            "/usr/local/lib/python3.10/dist-packages/statsmodels/tsa/base/tsa_model.py:473: ValueWarning: No frequency information was provided, so inferred frequency Q-DEC will be used.\n",
            "  self._init_dates(dates, freq)\n",
            "/usr/local/lib/python3.10/dist-packages/statsmodels/tsa/base/tsa_model.py:473: ValueWarning: No frequency information was provided, so inferred frequency Q-DEC will be used.\n",
            "  self._init_dates(dates, freq)\n",
            "/usr/local/lib/python3.10/dist-packages/statsmodels/tsa/statespace/sarimax.py:978: UserWarning: Non-invertible starting MA parameters found. Using zeros as starting parameters.\n",
            "  warn('Non-invertible starting MA parameters found.'\n",
            "/usr/local/lib/python3.10/dist-packages/statsmodels/tsa/statespace/sarimax.py:866: UserWarning: Too few observations to estimate starting parameters for seasonal ARMA. All parameters except for variances will be set to zeros.\n",
            "  warn('Too few observations to estimate starting parameters%s.'\n",
            "/usr/local/lib/python3.10/dist-packages/statsmodels/base/model.py:607: ConvergenceWarning: Maximum Likelihood optimization failed to converge. Check mle_retvals\n",
            "  warnings.warn(\"Maximum Likelihood optimization failed to \"\n",
            "[I 2024-09-16 23:56:47,599] Trial 7 finished with value: 5677498039.355828 and parameters: {'p': 3, 'd': 1, 'q': 2, 'P': 2, 'D': 0, 'Q': 2, 's': 6}. Best is trial 6 with value: 50214366.22378103.\n",
            "/usr/local/lib/python3.10/dist-packages/statsmodels/tsa/base/tsa_model.py:473: ValueWarning: No frequency information was provided, so inferred frequency Q-DEC will be used.\n",
            "  self._init_dates(dates, freq)\n",
            "/usr/local/lib/python3.10/dist-packages/statsmodels/tsa/base/tsa_model.py:473: ValueWarning: No frequency information was provided, so inferred frequency Q-DEC will be used.\n",
            "  self._init_dates(dates, freq)\n",
            "/usr/local/lib/python3.10/dist-packages/statsmodels/tsa/statespace/sarimax.py:866: UserWarning: Too few observations to estimate starting parameters for ARMA and trend. All parameters except for variances will be set to zeros.\n",
            "  warn('Too few observations to estimate starting parameters%s.'\n",
            "/usr/local/lib/python3.10/dist-packages/statsmodels/tsa/statespace/sarimax.py:866: UserWarning: Too few observations to estimate starting parameters for seasonal ARMA. All parameters except for variances will be set to zeros.\n",
            "  warn('Too few observations to estimate starting parameters%s.'\n",
            "/usr/local/lib/python3.10/dist-packages/statsmodels/base/model.py:607: ConvergenceWarning: Maximum Likelihood optimization failed to converge. Check mle_retvals\n",
            "  warnings.warn(\"Maximum Likelihood optimization failed to \"\n",
            "[I 2024-09-16 23:56:58,769] Trial 8 finished with value: 120768199.96598597 and parameters: {'p': 0, 'd': 0, 'q': 3, 'P': 3, 'D': 1, 'Q': 3, 's': 9}. Best is trial 6 with value: 50214366.22378103.\n",
            "/usr/local/lib/python3.10/dist-packages/statsmodels/tsa/base/tsa_model.py:473: ValueWarning: No frequency information was provided, so inferred frequency Q-DEC will be used.\n",
            "  self._init_dates(dates, freq)\n",
            "/usr/local/lib/python3.10/dist-packages/statsmodels/tsa/base/tsa_model.py:473: ValueWarning: No frequency information was provided, so inferred frequency Q-DEC will be used.\n",
            "  self._init_dates(dates, freq)\n",
            "/usr/local/lib/python3.10/dist-packages/statsmodels/tsa/statespace/sarimax.py:866: UserWarning: Too few observations to estimate starting parameters for ARMA and trend. All parameters except for variances will be set to zeros.\n",
            "  warn('Too few observations to estimate starting parameters%s.'\n",
            "/usr/local/lib/python3.10/dist-packages/statsmodels/tsa/statespace/sarimax.py:866: UserWarning: Too few observations to estimate starting parameters for seasonal ARMA. All parameters except for variances will be set to zeros.\n",
            "  warn('Too few observations to estimate starting parameters%s.'\n",
            "[I 2024-09-16 23:56:59,176] Trial 9 finished with value: 956779052.3816004 and parameters: {'p': 1, 'd': 0, 'q': 3, 'P': 1, 'D': 1, 'Q': 0, 's': 6}. Best is trial 6 with value: 50214366.22378103.\n",
            "/usr/local/lib/python3.10/dist-packages/statsmodels/tsa/base/tsa_model.py:473: ValueWarning: No frequency information was provided, so inferred frequency Q-DEC will be used.\n",
            "  self._init_dates(dates, freq)\n",
            "/usr/local/lib/python3.10/dist-packages/statsmodels/tsa/base/tsa_model.py:473: ValueWarning: No frequency information was provided, so inferred frequency Q-DEC will be used.\n",
            "  self._init_dates(dates, freq)\n",
            "/usr/local/lib/python3.10/dist-packages/statsmodels/tsa/statespace/sarimax.py:866: UserWarning: Too few observations to estimate starting parameters for seasonal ARMA. All parameters except for variances will be set to zeros.\n",
            "  warn('Too few observations to estimate starting parameters%s.'\n",
            "[I 2024-09-16 23:56:59,925] Trial 10 finished with value: 453232628.1204117 and parameters: {'p': 2, 'd': 2, 'q': 0, 'P': 0, 'D': 0, 'Q': 2, 's': 9}. Best is trial 6 with value: 50214366.22378103.\n",
            "/usr/local/lib/python3.10/dist-packages/statsmodels/tsa/base/tsa_model.py:473: ValueWarning: No frequency information was provided, so inferred frequency Q-DEC will be used.\n",
            "  self._init_dates(dates, freq)\n",
            "/usr/local/lib/python3.10/dist-packages/statsmodels/tsa/base/tsa_model.py:473: ValueWarning: No frequency information was provided, so inferred frequency Q-DEC will be used.\n",
            "  self._init_dates(dates, freq)\n",
            "/usr/local/lib/python3.10/dist-packages/statsmodels/tsa/statespace/sarimax.py:966: UserWarning: Non-stationary starting autoregressive parameters found. Using zeros as starting parameters.\n",
            "  warn('Non-stationary starting autoregressive parameters'\n",
            "/usr/local/lib/python3.10/dist-packages/statsmodels/tsa/statespace/sarimax.py:866: UserWarning: Too few observations to estimate starting parameters for seasonal ARMA. All parameters except for variances will be set to zeros.\n",
            "  warn('Too few observations to estimate starting parameters%s.'\n",
            "[I 2024-09-16 23:57:03,228] Trial 11 finished with value: 110052740.15417188 and parameters: {'p': 2, 'd': 0, 'q': 3, 'P': 1, 'D': 0, 'Q': 2, 's': 9}. Best is trial 6 with value: 50214366.22378103.\n",
            "/usr/local/lib/python3.10/dist-packages/statsmodels/tsa/base/tsa_model.py:473: ValueWarning: No frequency information was provided, so inferred frequency Q-DEC will be used.\n",
            "  self._init_dates(dates, freq)\n",
            "/usr/local/lib/python3.10/dist-packages/statsmodels/tsa/base/tsa_model.py:473: ValueWarning: No frequency information was provided, so inferred frequency Q-DEC will be used.\n",
            "  self._init_dates(dates, freq)\n",
            "/usr/local/lib/python3.10/dist-packages/statsmodels/tsa/statespace/sarimax.py:866: UserWarning: Too few observations to estimate starting parameters for seasonal ARMA. All parameters except for variances will be set to zeros.\n",
            "  warn('Too few observations to estimate starting parameters%s.'\n",
            "[I 2024-09-16 23:57:04,335] Trial 12 finished with value: 454717802.44854784 and parameters: {'p': 2, 'd': 2, 'q': 1, 'P': 0, 'D': 0, 'Q': 2, 's': 9}. Best is trial 6 with value: 50214366.22378103.\n",
            "[I 2024-09-16 23:57:04,433] Trial 13 finished with value: inf and parameters: {'p': 2, 'd': 0, 'q': 3, 'P': 1, 'D': 0, 'Q': 2, 's': 1}. Best is trial 6 with value: 50214366.22378103.\n",
            "/usr/local/lib/python3.10/dist-packages/statsmodels/tsa/base/tsa_model.py:473: ValueWarning: No frequency information was provided, so inferred frequency Q-DEC will be used.\n",
            "  self._init_dates(dates, freq)\n",
            "/usr/local/lib/python3.10/dist-packages/statsmodels/tsa/base/tsa_model.py:473: ValueWarning: No frequency information was provided, so inferred frequency Q-DEC will be used.\n",
            "  self._init_dates(dates, freq)\n",
            "/usr/local/lib/python3.10/dist-packages/statsmodels/tsa/statespace/sarimax.py:966: UserWarning: Non-stationary starting autoregressive parameters found. Using zeros as starting parameters.\n",
            "  warn('Non-stationary starting autoregressive parameters'\n"
          ]
        },
        {
          "output_type": "stream",
          "name": "stdout",
          "text": [
            "Error in trial: Seasonal periodicity must be greater than 1.\n"
          ]
        },
        {
          "output_type": "stream",
          "name": "stderr",
          "text": [
            "/usr/local/lib/python3.10/dist-packages/statsmodels/base/model.py:607: ConvergenceWarning: Maximum Likelihood optimization failed to converge. Check mle_retvals\n",
            "  warnings.warn(\"Maximum Likelihood optimization failed to \"\n",
            "[I 2024-09-16 23:57:05,369] Trial 14 finished with value: 71568053.5750638 and parameters: {'p': 3, 'd': 0, 'q': 0, 'P': 0, 'D': 0, 'Q': 0, 's': 8}. Best is trial 6 with value: 50214366.22378103.\n",
            "/usr/local/lib/python3.10/dist-packages/statsmodels/tsa/base/tsa_model.py:473: ValueWarning: No frequency information was provided, so inferred frequency Q-DEC will be used.\n",
            "  self._init_dates(dates, freq)\n",
            "/usr/local/lib/python3.10/dist-packages/statsmodels/tsa/base/tsa_model.py:473: ValueWarning: No frequency information was provided, so inferred frequency Q-DEC will be used.\n",
            "  self._init_dates(dates, freq)\n",
            "[I 2024-09-16 23:57:06,431] Trial 15 finished with value: 143600438.62932894 and parameters: {'p': 3, 'd': 1, 'q': 0, 'P': 0, 'D': 0, 'Q': 0, 's': 8}. Best is trial 6 with value: 50214366.22378103.\n",
            "/usr/local/lib/python3.10/dist-packages/statsmodels/tsa/base/tsa_model.py:473: ValueWarning: No frequency information was provided, so inferred frequency Q-DEC will be used.\n",
            "  self._init_dates(dates, freq)\n",
            "/usr/local/lib/python3.10/dist-packages/statsmodels/tsa/base/tsa_model.py:473: ValueWarning: No frequency information was provided, so inferred frequency Q-DEC will be used.\n",
            "  self._init_dates(dates, freq)\n",
            "/usr/local/lib/python3.10/dist-packages/statsmodels/tsa/statespace/sarimax.py:966: UserWarning: Non-stationary starting autoregressive parameters found. Using zeros as starting parameters.\n",
            "  warn('Non-stationary starting autoregressive parameters'\n",
            "/usr/local/lib/python3.10/dist-packages/statsmodels/base/model.py:607: ConvergenceWarning: Maximum Likelihood optimization failed to converge. Check mle_retvals\n",
            "  warnings.warn(\"Maximum Likelihood optimization failed to \"\n",
            "[I 2024-09-16 23:57:10,435] Trial 16 finished with value: 36695516.44302932 and parameters: {'p': 3, 'd': 0, 'q': 1, 'P': 0, 'D': 0, 'Q': 0, 's': 10}. Best is trial 16 with value: 36695516.44302932.\n",
            "/usr/local/lib/python3.10/dist-packages/statsmodels/tsa/base/tsa_model.py:473: ValueWarning: No frequency information was provided, so inferred frequency Q-DEC will be used.\n",
            "  self._init_dates(dates, freq)\n",
            "/usr/local/lib/python3.10/dist-packages/statsmodels/tsa/base/tsa_model.py:473: ValueWarning: No frequency information was provided, so inferred frequency Q-DEC will be used.\n",
            "  self._init_dates(dates, freq)\n",
            "/usr/local/lib/python3.10/dist-packages/statsmodels/tsa/statespace/sarimax.py:866: UserWarning: Too few observations to estimate starting parameters for seasonal ARMA. All parameters except for variances will be set to zeros.\n",
            "  warn('Too few observations to estimate starting parameters%s.'\n",
            "/usr/local/lib/python3.10/dist-packages/statsmodels/base/model.py:607: ConvergenceWarning: Maximum Likelihood optimization failed to converge. Check mle_retvals\n",
            "  warnings.warn(\"Maximum Likelihood optimization failed to \"\n",
            "[I 2024-09-16 23:57:11,755] Trial 17 finished with value: 3281020790.7063813 and parameters: {'p': 3, 'd': 2, 'q': 1, 'P': 0, 'D': 0, 'Q': 1, 's': 11}. Best is trial 16 with value: 36695516.44302932.\n",
            "/usr/local/lib/python3.10/dist-packages/statsmodels/tsa/base/tsa_model.py:473: ValueWarning: No frequency information was provided, so inferred frequency Q-DEC will be used.\n",
            "  self._init_dates(dates, freq)\n",
            "/usr/local/lib/python3.10/dist-packages/statsmodels/tsa/base/tsa_model.py:473: ValueWarning: No frequency information was provided, so inferred frequency Q-DEC will be used.\n",
            "  self._init_dates(dates, freq)\n",
            "/usr/local/lib/python3.10/dist-packages/statsmodels/tsa/statespace/sarimax.py:966: UserWarning: Non-stationary starting autoregressive parameters found. Using zeros as starting parameters.\n",
            "  warn('Non-stationary starting autoregressive parameters'\n",
            "/usr/local/lib/python3.10/dist-packages/statsmodels/tsa/statespace/sarimax.py:866: UserWarning: Too few observations to estimate starting parameters for seasonal ARMA. All parameters except for variances will be set to zeros.\n",
            "  warn('Too few observations to estimate starting parameters%s.'\n",
            "[I 2024-09-16 23:57:12,366] Trial 18 finished with value: 2437773066.0385013 and parameters: {'p': 2, 'd': 0, 'q': 1, 'P': 2, 'D': 0, 'Q': 0, 's': 11}. Best is trial 16 with value: 36695516.44302932.\n",
            "/usr/local/lib/python3.10/dist-packages/statsmodels/tsa/base/tsa_model.py:473: ValueWarning: No frequency information was provided, so inferred frequency Q-DEC will be used.\n",
            "  self._init_dates(dates, freq)\n",
            "/usr/local/lib/python3.10/dist-packages/statsmodels/tsa/base/tsa_model.py:473: ValueWarning: No frequency information was provided, so inferred frequency Q-DEC will be used.\n",
            "  self._init_dates(dates, freq)\n",
            "/usr/local/lib/python3.10/dist-packages/statsmodels/tsa/statespace/sarimax.py:866: UserWarning: Too few observations to estimate starting parameters for ARMA and trend. All parameters except for variances will be set to zeros.\n",
            "  warn('Too few observations to estimate starting parameters%s.'\n",
            "/usr/local/lib/python3.10/dist-packages/statsmodels/tsa/statespace/sarimax.py:866: UserWarning: Too few observations to estimate starting parameters for seasonal ARMA. All parameters except for variances will be set to zeros.\n",
            "  warn('Too few observations to estimate starting parameters%s.'\n",
            "[I 2024-09-16 23:57:12,851] Trial 19 finished with value: 17667832.704398517 and parameters: {'p': 3, 'd': 1, 'q': 2, 'P': 1, 'D': 1, 'Q': 1, 's': 4}. Best is trial 19 with value: 17667832.704398517.\n",
            "/usr/local/lib/python3.10/dist-packages/statsmodels/tsa/base/tsa_model.py:473: ValueWarning: No frequency information was provided, so inferred frequency Q-DEC will be used.\n",
            "  self._init_dates(dates, freq)\n",
            "/usr/local/lib/python3.10/dist-packages/statsmodels/tsa/base/tsa_model.py:473: ValueWarning: No frequency information was provided, so inferred frequency Q-DEC will be used.\n",
            "  self._init_dates(dates, freq)\n",
            "[I 2024-09-16 23:57:12,938] Trial 20 finished with value: inf and parameters: {'p': 2, 'd': 2, 'q': 1, 'P': 1, 'D': 2, 'Q': 0, 's': 4}. Best is trial 19 with value: 17667832.704398517.\n",
            "/usr/local/lib/python3.10/dist-packages/statsmodels/tsa/base/tsa_model.py:473: ValueWarning: No frequency information was provided, so inferred frequency Q-DEC will be used.\n",
            "  self._init_dates(dates, freq)\n",
            "/usr/local/lib/python3.10/dist-packages/statsmodels/tsa/base/tsa_model.py:473: ValueWarning: No frequency information was provided, so inferred frequency Q-DEC will be used.\n",
            "  self._init_dates(dates, freq)\n",
            "/usr/local/lib/python3.10/dist-packages/statsmodels/tsa/statespace/sarimax.py:866: UserWarning: Too few observations to estimate starting parameters for seasonal ARMA. All parameters except for variances will be set to zeros.\n",
            "  warn('Too few observations to estimate starting parameters%s.'\n"
          ]
        },
        {
          "output_type": "stream",
          "name": "stdout",
          "text": [
            "Error in trial: too many indices for array: array is 0-dimensional, but 1 were indexed\n"
          ]
        },
        {
          "output_type": "stream",
          "name": "stderr",
          "text": [
            "[I 2024-09-16 23:57:13,358] Trial 21 finished with value: 46373922.04159997 and parameters: {'p': 3, 'd': 1, 'q': 2, 'P': 0, 'D': 1, 'Q': 1, 's': 3}. Best is trial 19 with value: 17667832.704398517.\n",
            "[I 2024-09-16 23:57:13,428] Trial 22 finished with value: inf and parameters: {'p': 3, 'd': 1, 'q': 2, 'P': 1, 'D': 1, 'Q': 1, 's': 2}. Best is trial 19 with value: 17667832.704398517.\n",
            "/usr/local/lib/python3.10/dist-packages/statsmodels/tsa/base/tsa_model.py:473: ValueWarning: No frequency information was provided, so inferred frequency Q-DEC will be used.\n",
            "  self._init_dates(dates, freq)\n",
            "/usr/local/lib/python3.10/dist-packages/statsmodels/tsa/base/tsa_model.py:473: ValueWarning: No frequency information was provided, so inferred frequency Q-DEC will be used.\n",
            "  self._init_dates(dates, freq)\n",
            "/usr/local/lib/python3.10/dist-packages/statsmodels/tsa/statespace/sarimax.py:866: UserWarning: Too few observations to estimate starting parameters for ARMA and trend. All parameters except for variances will be set to zeros.\n",
            "  warn('Too few observations to estimate starting parameters%s.'\n",
            "/usr/local/lib/python3.10/dist-packages/statsmodels/tsa/statespace/sarimax.py:866: UserWarning: Too few observations to estimate starting parameters for seasonal ARMA. All parameters except for variances will be set to zeros.\n",
            "  warn('Too few observations to estimate starting parameters%s.'\n"
          ]
        },
        {
          "output_type": "stream",
          "name": "stdout",
          "text": [
            "Error in trial: Invalid model: autoregressive lag(s) {2} are in both the seasonal and non-seasonal autoregressive components.\n"
          ]
        },
        {
          "output_type": "stream",
          "name": "stderr",
          "text": [
            "[I 2024-09-16 23:57:13,748] Trial 23 finished with value: 15066790.896401776 and parameters: {'p': 3, 'd': 1, 'q': 2, 'P': 0, 'D': 1, 'Q': 1, 's': 4}. Best is trial 23 with value: 15066790.896401776.\n",
            "/usr/local/lib/python3.10/dist-packages/statsmodels/tsa/base/tsa_model.py:473: ValueWarning: No frequency information was provided, so inferred frequency Q-DEC will be used.\n",
            "  self._init_dates(dates, freq)\n",
            "/usr/local/lib/python3.10/dist-packages/statsmodels/tsa/base/tsa_model.py:473: ValueWarning: No frequency information was provided, so inferred frequency Q-DEC will be used.\n",
            "  self._init_dates(dates, freq)\n",
            "/usr/local/lib/python3.10/dist-packages/statsmodels/tsa/statespace/sarimax.py:866: UserWarning: Too few observations to estimate starting parameters for ARMA and trend. All parameters except for variances will be set to zeros.\n",
            "  warn('Too few observations to estimate starting parameters%s.'\n",
            "[I 2024-09-16 23:57:14,193] Trial 24 finished with value: 15027021.112333357 and parameters: {'p': 3, 'd': 1, 'q': 2, 'P': 1, 'D': 1, 'Q': 0, 's': 4}. Best is trial 24 with value: 15027021.112333357.\n",
            "/usr/local/lib/python3.10/dist-packages/statsmodels/tsa/base/tsa_model.py:473: ValueWarning: No frequency information was provided, so inferred frequency Q-DEC will be used.\n",
            "  self._init_dates(dates, freq)\n",
            "/usr/local/lib/python3.10/dist-packages/statsmodels/tsa/base/tsa_model.py:473: ValueWarning: No frequency information was provided, so inferred frequency Q-DEC will be used.\n",
            "  self._init_dates(dates, freq)\n",
            "/usr/local/lib/python3.10/dist-packages/statsmodels/tsa/statespace/sarimax.py:866: UserWarning: Too few observations to estimate starting parameters for ARMA and trend. All parameters except for variances will be set to zeros.\n",
            "  warn('Too few observations to estimate starting parameters%s.'\n",
            "/usr/local/lib/python3.10/dist-packages/statsmodels/tsa/statespace/sarimax.py:866: UserWarning: Too few observations to estimate starting parameters for seasonal ARMA. All parameters except for variances will be set to zeros.\n",
            "  warn('Too few observations to estimate starting parameters%s.'\n",
            "[I 2024-09-16 23:57:14,530] Trial 25 finished with value: 75089448301.31157 and parameters: {'p': 2, 'd': 1, 'q': 2, 'P': 2, 'D': 1, 'Q': 1, 's': 4}. Best is trial 24 with value: 15027021.112333357.\n",
            "/usr/local/lib/python3.10/dist-packages/statsmodels/tsa/base/tsa_model.py:473: ValueWarning: No frequency information was provided, so inferred frequency Q-DEC will be used.\n",
            "  self._init_dates(dates, freq)\n",
            "/usr/local/lib/python3.10/dist-packages/statsmodels/tsa/base/tsa_model.py:473: ValueWarning: No frequency information was provided, so inferred frequency Q-DEC will be used.\n",
            "  self._init_dates(dates, freq)\n",
            "/usr/local/lib/python3.10/dist-packages/statsmodels/tsa/statespace/sarimax.py:866: UserWarning: Too few observations to estimate starting parameters for ARMA and trend. All parameters except for variances will be set to zeros.\n",
            "  warn('Too few observations to estimate starting parameters%s.'\n",
            "/usr/local/lib/python3.10/dist-packages/statsmodels/tsa/statespace/sarimax.py:866: UserWarning: Too few observations to estimate starting parameters for seasonal ARMA. All parameters except for variances will be set to zeros.\n",
            "  warn('Too few observations to estimate starting parameters%s.'\n",
            "[I 2024-09-16 23:57:14,777] Trial 26 finished with value: 260400894.07938337 and parameters: {'p': 3, 'd': 1, 'q': 2, 'P': 1, 'D': 1, 'Q': 1, 's': 5}. Best is trial 24 with value: 15027021.112333357.\n",
            "[I 2024-09-16 23:57:14,853] Trial 27 finished with value: inf and parameters: {'p': 2, 'd': 1, 'q': 2, 'P': 1, 'D': 1, 'Q': 0, 's': 1}. Best is trial 24 with value: 15027021.112333357.\n",
            "[I 2024-09-16 23:57:14,921] Trial 28 finished with value: inf and parameters: {'p': 3, 'd': 1, 'q': 2, 'P': 2, 'D': 2, 'Q': 1, 's': 3}. Best is trial 24 with value: 15027021.112333357.\n",
            "/usr/local/lib/python3.10/dist-packages/statsmodels/tsa/base/tsa_model.py:473: ValueWarning: No frequency information was provided, so inferred frequency Q-DEC will be used.\n",
            "  self._init_dates(dates, freq)\n",
            "/usr/local/lib/python3.10/dist-packages/statsmodels/tsa/base/tsa_model.py:473: ValueWarning: No frequency information was provided, so inferred frequency Q-DEC will be used.\n",
            "  self._init_dates(dates, freq)\n",
            "/usr/local/lib/python3.10/dist-packages/statsmodels/tsa/statespace/sarimax.py:866: UserWarning: Too few observations to estimate starting parameters for ARMA and trend. All parameters except for variances will be set to zeros.\n",
            "  warn('Too few observations to estimate starting parameters%s.'\n"
          ]
        },
        {
          "output_type": "stream",
          "name": "stdout",
          "text": [
            "Error in trial: Seasonal periodicity must be greater than 1.\n",
            "Error in trial: Invalid model: autoregressive lag(s) {3} are in both the seasonal and non-seasonal autoregressive components.\n"
          ]
        },
        {
          "output_type": "stream",
          "name": "stderr",
          "text": [
            "[I 2024-09-16 23:57:16,236] Trial 29 finished with value: 12714767.306710785 and parameters: {'p': 3, 'd': 2, 'q': 2, 'P': 1, 'D': 1, 'Q': 0, 's': 4}. Best is trial 29 with value: 12714767.306710785.\n",
            "/usr/local/lib/python3.10/dist-packages/statsmodels/tsa/base/tsa_model.py:473: ValueWarning: No frequency information was provided, so inferred frequency Q-DEC will be used.\n",
            "  self._init_dates(dates, freq)\n",
            "/usr/local/lib/python3.10/dist-packages/statsmodels/tsa/base/tsa_model.py:473: ValueWarning: No frequency information was provided, so inferred frequency Q-DEC will be used.\n",
            "  self._init_dates(dates, freq)\n",
            "/usr/local/lib/python3.10/dist-packages/statsmodels/tsa/statespace/sarimax.py:997: UserWarning: Non-stationary starting seasonal autoregressive Using zeros as starting parameters.\n",
            "  warn('Non-stationary starting seasonal autoregressive'\n",
            "/usr/local/lib/python3.10/dist-packages/statsmodels/base/model.py:607: ConvergenceWarning: Maximum Likelihood optimization failed to converge. Check mle_retvals\n",
            "  warnings.warn(\"Maximum Likelihood optimization failed to \"\n",
            "[I 2024-09-16 23:57:16,653] Trial 30 finished with value: 1517712309.3714745 and parameters: {'p': 1, 'd': 2, 'q': 2, 'P': 2, 'D': 1, 'Q': 0, 's': 2}. Best is trial 29 with value: 12714767.306710785.\n",
            "/usr/local/lib/python3.10/dist-packages/statsmodels/tsa/base/tsa_model.py:473: ValueWarning: No frequency information was provided, so inferred frequency Q-DEC will be used.\n",
            "  self._init_dates(dates, freq)\n",
            "/usr/local/lib/python3.10/dist-packages/statsmodels/tsa/base/tsa_model.py:473: ValueWarning: No frequency information was provided, so inferred frequency Q-DEC will be used.\n",
            "  self._init_dates(dates, freq)\n",
            "/usr/local/lib/python3.10/dist-packages/statsmodels/tsa/statespace/sarimax.py:866: UserWarning: Too few observations to estimate starting parameters for ARMA and trend. All parameters except for variances will be set to zeros.\n",
            "  warn('Too few observations to estimate starting parameters%s.'\n",
            "[I 2024-09-16 23:57:17,097] Trial 31 finished with value: 15027021.112333357 and parameters: {'p': 3, 'd': 1, 'q': 2, 'P': 1, 'D': 1, 'Q': 0, 's': 4}. Best is trial 29 with value: 12714767.306710785.\n",
            "/usr/local/lib/python3.10/dist-packages/statsmodels/tsa/base/tsa_model.py:473: ValueWarning: No frequency information was provided, so inferred frequency Q-DEC will be used.\n",
            "  self._init_dates(dates, freq)\n",
            "/usr/local/lib/python3.10/dist-packages/statsmodels/tsa/base/tsa_model.py:473: ValueWarning: No frequency information was provided, so inferred frequency Q-DEC will be used.\n",
            "  self._init_dates(dates, freq)\n",
            "/usr/local/lib/python3.10/dist-packages/statsmodels/tsa/statespace/sarimax.py:866: UserWarning: Too few observations to estimate starting parameters for ARMA and trend. All parameters except for variances will be set to zeros.\n",
            "  warn('Too few observations to estimate starting parameters%s.'\n",
            "/usr/local/lib/python3.10/dist-packages/statsmodels/tsa/statespace/sarimax.py:866: UserWarning: Too few observations to estimate starting parameters for seasonal ARMA. All parameters except for variances will be set to zeros.\n",
            "  warn('Too few observations to estimate starting parameters%s.'\n",
            "[I 2024-09-16 23:57:17,278] Trial 32 finished with value: 695539514.4111676 and parameters: {'p': 3, 'd': 2, 'q': 2, 'P': 1, 'D': 1, 'Q': 0, 's': 5}. Best is trial 29 with value: 12714767.306710785.\n",
            "/usr/local/lib/python3.10/dist-packages/statsmodels/tsa/base/tsa_model.py:473: ValueWarning: No frequency information was provided, so inferred frequency Q-DEC will be used.\n",
            "  self._init_dates(dates, freq)\n",
            "/usr/local/lib/python3.10/dist-packages/statsmodels/tsa/base/tsa_model.py:473: ValueWarning: No frequency information was provided, so inferred frequency Q-DEC will be used.\n",
            "  self._init_dates(dates, freq)\n",
            "/usr/local/lib/python3.10/dist-packages/statsmodels/tsa/statespace/sarimax.py:866: UserWarning: Too few observations to estimate starting parameters for ARMA and trend. All parameters except for variances will be set to zeros.\n",
            "  warn('Too few observations to estimate starting parameters%s.'\n",
            "[I 2024-09-16 23:57:17,722] Trial 33 finished with value: 15027021.112333357 and parameters: {'p': 3, 'd': 1, 'q': 2, 'P': 1, 'D': 1, 'Q': 0, 's': 4}. Best is trial 29 with value: 12714767.306710785.\n",
            "[I 2024-09-16 23:57:17,797] Trial 34 finished with value: inf and parameters: {'p': 3, 'd': 1, 'q': 1, 'P': 1, 'D': 2, 'Q': 0, 's': 2}. Best is trial 29 with value: 12714767.306710785.\n",
            "/usr/local/lib/python3.10/dist-packages/statsmodels/tsa/base/tsa_model.py:473: ValueWarning: No frequency information was provided, so inferred frequency Q-DEC will be used.\n",
            "  self._init_dates(dates, freq)\n",
            "/usr/local/lib/python3.10/dist-packages/statsmodels/tsa/base/tsa_model.py:473: ValueWarning: No frequency information was provided, so inferred frequency Q-DEC will be used.\n",
            "  self._init_dates(dates, freq)\n",
            "/usr/local/lib/python3.10/dist-packages/statsmodels/tsa/statespace/sarimax.py:866: UserWarning: Too few observations to estimate starting parameters for ARMA and trend. All parameters except for variances will be set to zeros.\n",
            "  warn('Too few observations to estimate starting parameters%s.'\n",
            "/usr/local/lib/python3.10/dist-packages/statsmodels/tsa/statespace/sarimax.py:866: UserWarning: Too few observations to estimate starting parameters for seasonal ARMA. All parameters except for variances will be set to zeros.\n",
            "  warn('Too few observations to estimate starting parameters%s.'\n",
            "[I 2024-09-16 23:57:17,975] Trial 35 finished with value: 695539514.4111676 and parameters: {'p': 3, 'd': 2, 'q': 2, 'P': 1, 'D': 1, 'Q': 0, 's': 5}. Best is trial 29 with value: 12714767.306710785.\n"
          ]
        },
        {
          "output_type": "stream",
          "name": "stdout",
          "text": [
            "Error in trial: Invalid model: autoregressive lag(s) {2} are in both the seasonal and non-seasonal autoregressive components.\n"
          ]
        },
        {
          "output_type": "stream",
          "name": "stderr",
          "text": [
            "/usr/local/lib/python3.10/dist-packages/statsmodels/tsa/base/tsa_model.py:473: ValueWarning: No frequency information was provided, so inferred frequency Q-DEC will be used.\n",
            "  self._init_dates(dates, freq)\n",
            "/usr/local/lib/python3.10/dist-packages/statsmodels/tsa/base/tsa_model.py:473: ValueWarning: No frequency information was provided, so inferred frequency Q-DEC will be used.\n",
            "  self._init_dates(dates, freq)\n",
            "/usr/local/lib/python3.10/dist-packages/statsmodels/tsa/statespace/sarimax.py:866: UserWarning: Too few observations to estimate starting parameters for ARMA and trend. All parameters except for variances will be set to zeros.\n",
            "  warn('Too few observations to estimate starting parameters%s.'\n",
            "/usr/local/lib/python3.10/dist-packages/statsmodels/base/model.py:607: ConvergenceWarning: Maximum Likelihood optimization failed to converge. Check mle_retvals\n",
            "  warnings.warn(\"Maximum Likelihood optimization failed to \"\n",
            "[I 2024-09-16 23:57:18,449] Trial 36 finished with value: 649622561.1661078 and parameters: {'p': 2, 'd': 1, 'q': 3, 'P': 1, 'D': 1, 'Q': 0, 's': 3}. Best is trial 29 with value: 12714767.306710785.\n",
            "/usr/local/lib/python3.10/dist-packages/statsmodels/tsa/base/tsa_model.py:473: ValueWarning: No frequency information was provided, so inferred frequency Q-DEC will be used.\n",
            "  self._init_dates(dates, freq)\n",
            "/usr/local/lib/python3.10/dist-packages/statsmodels/tsa/base/tsa_model.py:473: ValueWarning: No frequency information was provided, so inferred frequency Q-DEC will be used.\n",
            "  self._init_dates(dates, freq)\n",
            "/usr/local/lib/python3.10/dist-packages/statsmodels/tsa/statespace/sarimax.py:866: UserWarning: Too few observations to estimate starting parameters for ARMA and trend. All parameters except for variances will be set to zeros.\n",
            "  warn('Too few observations to estimate starting parameters%s.'\n",
            "/usr/local/lib/python3.10/dist-packages/statsmodels/tsa/statespace/sarimax.py:866: UserWarning: Too few observations to estimate starting parameters for seasonal ARMA. All parameters except for variances will be set to zeros.\n",
            "  warn('Too few observations to estimate starting parameters%s.'\n",
            "/usr/local/lib/python3.10/dist-packages/numpy/core/fromnumeric.py:3787: RuntimeWarning: Degrees of freedom <= 0 for slice\n",
            "  return _methods._var(a, axis=axis, dtype=dtype, out=out, ddof=ddof,\n",
            "/usr/local/lib/python3.10/dist-packages/numpy/core/_methods.py:163: RuntimeWarning: invalid value encountered in divide\n",
            "  arrmean = um.true_divide(arrmean, div, out=arrmean,\n",
            "/usr/local/lib/python3.10/dist-packages/numpy/core/_methods.py:198: RuntimeWarning: invalid value encountered in scalar divide\n",
            "  ret = ret.dtype.type(ret / rcount)\n",
            "[I 2024-09-16 23:57:18,716] Trial 37 finished with value: 26950283545.15828 and parameters: {'p': 3, 'd': 1, 'q': 2, 'P': 2, 'D': 2, 'Q': 0, 's': 6}. Best is trial 29 with value: 12714767.306710785.\n",
            "/usr/local/lib/python3.10/dist-packages/statsmodels/tsa/base/tsa_model.py:473: ValueWarning: No frequency information was provided, so inferred frequency Q-DEC will be used.\n",
            "  self._init_dates(dates, freq)\n",
            "/usr/local/lib/python3.10/dist-packages/statsmodels/tsa/base/tsa_model.py:473: ValueWarning: No frequency information was provided, so inferred frequency Q-DEC will be used.\n",
            "  self._init_dates(dates, freq)\n",
            "/usr/local/lib/python3.10/dist-packages/statsmodels/tsa/statespace/sarimax.py:866: UserWarning: Too few observations to estimate starting parameters for seasonal ARMA. All parameters except for variances will be set to zeros.\n",
            "  warn('Too few observations to estimate starting parameters%s.'\n",
            "[I 2024-09-16 23:57:18,860] Trial 38 finished with value: 443370595.18392795 and parameters: {'p': 3, 'd': 2, 'q': 1, 'P': 1, 'D': 1, 'Q': 0, 's': 5}. Best is trial 29 with value: 12714767.306710785.\n",
            "/usr/local/lib/python3.10/dist-packages/statsmodels/tsa/base/tsa_model.py:473: ValueWarning: No frequency information was provided, so inferred frequency Q-DEC will be used.\n",
            "  self._init_dates(dates, freq)\n",
            "/usr/local/lib/python3.10/dist-packages/statsmodels/tsa/base/tsa_model.py:473: ValueWarning: No frequency information was provided, so inferred frequency Q-DEC will be used.\n",
            "  self._init_dates(dates, freq)\n",
            "/usr/local/lib/python3.10/dist-packages/statsmodels/tsa/statespace/sarimax.py:866: UserWarning: Too few observations to estimate starting parameters for ARMA and trend. All parameters except for variances will be set to zeros.\n",
            "  warn('Too few observations to estimate starting parameters%s.'\n",
            "/usr/local/lib/python3.10/dist-packages/statsmodels/tsa/statespace/sarimax.py:866: UserWarning: Too few observations to estimate starting parameters for seasonal ARMA. All parameters except for variances will be set to zeros.\n",
            "  warn('Too few observations to estimate starting parameters%s.'\n",
            "[I 2024-09-16 23:57:19,056] Trial 39 finished with value: 85947578.48743816 and parameters: {'p': 0, 'd': 1, 'q': 2, 'P': 1, 'D': 1, 'Q': 0, 's': 7}. Best is trial 29 with value: 12714767.306710785.\n",
            "[I 2024-09-16 23:57:19,132] Trial 40 finished with value: inf and parameters: {'p': 3, 'd': 1, 'q': 3, 'P': 2, 'D': 1, 'Q': 0, 's': 3}. Best is trial 29 with value: 12714767.306710785.\n",
            "/usr/local/lib/python3.10/dist-packages/statsmodels/tsa/base/tsa_model.py:473: ValueWarning: No frequency information was provided, so inferred frequency Q-DEC will be used.\n",
            "  self._init_dates(dates, freq)\n",
            "/usr/local/lib/python3.10/dist-packages/statsmodels/tsa/base/tsa_model.py:473: ValueWarning: No frequency information was provided, so inferred frequency Q-DEC will be used.\n",
            "  self._init_dates(dates, freq)\n",
            "/usr/local/lib/python3.10/dist-packages/statsmodels/tsa/statespace/sarimax.py:866: UserWarning: Too few observations to estimate starting parameters for ARMA and trend. All parameters except for variances will be set to zeros.\n",
            "  warn('Too few observations to estimate starting parameters%s.'\n",
            "/usr/local/lib/python3.10/dist-packages/statsmodels/tsa/statespace/sarimax.py:866: UserWarning: Too few observations to estimate starting parameters for seasonal ARMA. All parameters except for variances will be set to zeros.\n",
            "  warn('Too few observations to estimate starting parameters%s.'\n"
          ]
        },
        {
          "output_type": "stream",
          "name": "stdout",
          "text": [
            "Error in trial: Invalid model: autoregressive lag(s) {3} are in both the seasonal and non-seasonal autoregressive components.\n"
          ]
        },
        {
          "output_type": "stream",
          "name": "stderr",
          "text": [
            "[I 2024-09-16 23:57:19,491] Trial 41 finished with value: 15066790.896401776 and parameters: {'p': 3, 'd': 1, 'q': 2, 'P': 0, 'D': 1, 'Q': 1, 's': 4}. Best is trial 29 with value: 12714767.306710785.\n",
            "/usr/local/lib/python3.10/dist-packages/statsmodels/tsa/base/tsa_model.py:473: ValueWarning: No frequency information was provided, so inferred frequency Q-DEC will be used.\n",
            "  self._init_dates(dates, freq)\n",
            "/usr/local/lib/python3.10/dist-packages/statsmodels/tsa/base/tsa_model.py:473: ValueWarning: No frequency information was provided, so inferred frequency Q-DEC will be used.\n",
            "  self._init_dates(dates, freq)\n",
            "/usr/local/lib/python3.10/dist-packages/statsmodels/tsa/statespace/sarimax.py:866: UserWarning: Too few observations to estimate starting parameters for ARMA and trend. All parameters except for variances will be set to zeros.\n",
            "  warn('Too few observations to estimate starting parameters%s.'\n",
            "[I 2024-09-16 23:57:19,927] Trial 42 finished with value: 15027021.112333357 and parameters: {'p': 3, 'd': 1, 'q': 2, 'P': 1, 'D': 1, 'Q': 0, 's': 4}. Best is trial 29 with value: 12714767.306710785.\n",
            "/usr/local/lib/python3.10/dist-packages/statsmodels/tsa/base/tsa_model.py:473: ValueWarning: No frequency information was provided, so inferred frequency Q-DEC will be used.\n",
            "  self._init_dates(dates, freq)\n",
            "/usr/local/lib/python3.10/dist-packages/statsmodels/tsa/base/tsa_model.py:473: ValueWarning: No frequency information was provided, so inferred frequency Q-DEC will be used.\n",
            "  self._init_dates(dates, freq)\n",
            "/usr/local/lib/python3.10/dist-packages/statsmodels/tsa/statespace/sarimax.py:866: UserWarning: Too few observations to estimate starting parameters for ARMA and trend. All parameters except for variances will be set to zeros.\n",
            "  warn('Too few observations to estimate starting parameters%s.'\n",
            "/usr/local/lib/python3.10/dist-packages/statsmodels/tsa/statespace/sarimax.py:866: UserWarning: Too few observations to estimate starting parameters for seasonal ARMA. All parameters except for variances will be set to zeros.\n",
            "  warn('Too few observations to estimate starting parameters%s.'\n",
            "[I 2024-09-16 23:57:20,391] Trial 43 finished with value: 1285651447.5624776 and parameters: {'p': 3, 'd': 1, 'q': 2, 'P': 1, 'D': 1, 'Q': 0, 's': 6}. Best is trial 29 with value: 12714767.306710785.\n",
            "/usr/local/lib/python3.10/dist-packages/statsmodels/tsa/base/tsa_model.py:473: ValueWarning: No frequency information was provided, so inferred frequency Q-DEC will be used.\n",
            "  self._init_dates(dates, freq)\n",
            "/usr/local/lib/python3.10/dist-packages/statsmodels/tsa/base/tsa_model.py:473: ValueWarning: No frequency information was provided, so inferred frequency Q-DEC will be used.\n",
            "  self._init_dates(dates, freq)\n",
            "/usr/local/lib/python3.10/dist-packages/statsmodels/tsa/statespace/sarimax.py:866: UserWarning: Too few observations to estimate starting parameters for ARMA and trend. All parameters except for variances will be set to zeros.\n",
            "  warn('Too few observations to estimate starting parameters%s.'\n",
            "[I 2024-09-16 23:57:20,849] Trial 44 finished with value: 15027021.112333357 and parameters: {'p': 3, 'd': 1, 'q': 2, 'P': 1, 'D': 1, 'Q': 0, 's': 4}. Best is trial 29 with value: 12714767.306710785.\n",
            "[I 2024-09-16 23:57:20,949] Trial 45 finished with value: inf and parameters: {'p': 2, 'd': 1, 'q': 3, 'P': 1, 'D': 1, 'Q': 0, 's': 2}. Best is trial 29 with value: 12714767.306710785.\n",
            "/usr/local/lib/python3.10/dist-packages/statsmodels/tsa/base/tsa_model.py:473: ValueWarning: No frequency information was provided, so inferred frequency Q-DEC will be used.\n",
            "  self._init_dates(dates, freq)\n",
            "/usr/local/lib/python3.10/dist-packages/statsmodels/tsa/base/tsa_model.py:473: ValueWarning: No frequency information was provided, so inferred frequency Q-DEC will be used.\n",
            "  self._init_dates(dates, freq)\n",
            "/usr/local/lib/python3.10/dist-packages/statsmodels/tsa/statespace/sarimax.py:866: UserWarning: Too few observations to estimate starting parameters for ARMA and trend. All parameters except for variances will be set to zeros.\n",
            "  warn('Too few observations to estimate starting parameters%s.'\n",
            "/usr/local/lib/python3.10/dist-packages/statsmodels/tsa/statespace/sarimax.py:866: UserWarning: Too few observations to estimate starting parameters for seasonal ARMA. All parameters except for variances will be set to zeros.\n",
            "  warn('Too few observations to estimate starting parameters%s.'\n"
          ]
        },
        {
          "output_type": "stream",
          "name": "stdout",
          "text": [
            "Error in trial: Invalid model: autoregressive lag(s) {2} are in both the seasonal and non-seasonal autoregressive components.\n"
          ]
        },
        {
          "output_type": "stream",
          "name": "stderr",
          "text": [
            "[I 2024-09-16 23:57:21,251] Trial 46 finished with value: 260229632.38398078 and parameters: {'p': 3, 'd': 1, 'q': 2, 'P': 1, 'D': 1, 'Q': 0, 's': 5}. Best is trial 29 with value: 12714767.306710785.\n",
            "/usr/local/lib/python3.10/dist-packages/statsmodels/tsa/base/tsa_model.py:473: ValueWarning: No frequency information was provided, so inferred frequency Q-DEC will be used.\n",
            "  self._init_dates(dates, freq)\n",
            "/usr/local/lib/python3.10/dist-packages/statsmodels/tsa/base/tsa_model.py:473: ValueWarning: No frequency information was provided, so inferred frequency Q-DEC will be used.\n",
            "  self._init_dates(dates, freq)\n",
            "/usr/local/lib/python3.10/dist-packages/statsmodels/tsa/statespace/sarimax.py:866: UserWarning: Too few observations to estimate starting parameters for ARMA and trend. All parameters except for variances will be set to zeros.\n",
            "  warn('Too few observations to estimate starting parameters%s.'\n",
            "/usr/local/lib/python3.10/dist-packages/statsmodels/tsa/statespace/sarimax.py:866: UserWarning: Too few observations to estimate starting parameters for seasonal ARMA. All parameters except for variances will be set to zeros.\n",
            "  warn('Too few observations to estimate starting parameters%s.'\n",
            "/usr/local/lib/python3.10/dist-packages/numpy/core/fromnumeric.py:3787: RuntimeWarning: Degrees of freedom <= 0 for slice\n",
            "  return _methods._var(a, axis=axis, dtype=dtype, out=out, ddof=ddof,\n",
            "/usr/local/lib/python3.10/dist-packages/numpy/core/_methods.py:163: RuntimeWarning: invalid value encountered in divide\n",
            "  arrmean = um.true_divide(arrmean, div, out=arrmean,\n",
            "/usr/local/lib/python3.10/dist-packages/numpy/core/_methods.py:198: RuntimeWarning: invalid value encountered in scalar divide\n",
            "  ret = ret.dtype.type(ret / rcount)\n",
            "[I 2024-09-16 23:57:21,370] Trial 47 finished with value: 1274855473.9004886 and parameters: {'p': 1, 'd': 1, 'q': 2, 'P': 1, 'D': 2, 'Q': 0, 's': 7}. Best is trial 29 with value: 12714767.306710785.\n",
            "[I 2024-09-16 23:57:21,448] Trial 48 finished with value: inf and parameters: {'p': 3, 'd': 1, 'q': 3, 'P': 1, 'D': 1, 'Q': 0, 's': 3}. Best is trial 29 with value: 12714767.306710785.\n",
            "/usr/local/lib/python3.10/dist-packages/statsmodels/tsa/base/tsa_model.py:473: ValueWarning: No frequency information was provided, so inferred frequency Q-DEC will be used.\n",
            "  self._init_dates(dates, freq)\n",
            "/usr/local/lib/python3.10/dist-packages/statsmodels/tsa/base/tsa_model.py:473: ValueWarning: No frequency information was provided, so inferred frequency Q-DEC will be used.\n",
            "  self._init_dates(dates, freq)\n",
            "/usr/local/lib/python3.10/dist-packages/statsmodels/tsa/statespace/sarimax.py:866: UserWarning: Too few observations to estimate starting parameters for ARMA and trend. All parameters except for variances will be set to zeros.\n",
            "  warn('Too few observations to estimate starting parameters%s.'\n",
            "/usr/local/lib/python3.10/dist-packages/statsmodels/tsa/statespace/sarimax.py:866: UserWarning: Too few observations to estimate starting parameters for seasonal ARMA. All parameters except for variances will be set to zeros.\n",
            "  warn('Too few observations to estimate starting parameters%s.'\n"
          ]
        },
        {
          "output_type": "stream",
          "name": "stdout",
          "text": [
            "Error in trial: Invalid model: autoregressive lag(s) {3} are in both the seasonal and non-seasonal autoregressive components.\n"
          ]
        },
        {
          "output_type": "stream",
          "name": "stderr",
          "text": [
            "[I 2024-09-16 23:57:23,978] Trial 49 finished with value: 50377626463.91428 and parameters: {'p': 2, 'd': 2, 'q': 2, 'P': 3, 'D': 1, 'Q': 0, 's': 6}. Best is trial 29 with value: 12714767.306710785.\n",
            "/usr/local/lib/python3.10/dist-packages/statsmodels/tsa/base/tsa_model.py:473: ValueWarning: No frequency information was provided, so inferred frequency Q-DEC will be used.\n",
            "  self._init_dates(dates, freq)\n",
            "/usr/local/lib/python3.10/dist-packages/statsmodels/tsa/base/tsa_model.py:473: ValueWarning: No frequency information was provided, so inferred frequency Q-DEC will be used.\n",
            "  self._init_dates(dates, freq)\n",
            "/usr/local/lib/python3.10/dist-packages/statsmodels/tsa/statespace/sarimax.py:866: UserWarning: Too few observations to estimate starting parameters for ARMA and trend. All parameters except for variances will be set to zeros.\n",
            "  warn('Too few observations to estimate starting parameters%s.'\n"
          ]
        },
        {
          "output_type": "stream",
          "name": "stdout",
          "text": [
            "Best Parameters: {'p': 3, 'd': 2, 'q': 2, 'P': 1, 'D': 1, 'Q': 0, 's': 4}\n",
            "Best MSE: 12714767.306710785\n",
            "Best Model MSE: 12714767.306710785\n"
          ]
        }
      ]
    },
    {
      "cell_type": "code",
      "source": [
        "from sklearn.model_selection import train_test_split\n",
        "from statsmodels.tsa.statespace.sarimax import SARIMAX\n",
        "from sklearn.metrics import mean_squared_error, mean_absolute_error, r2_score  # Importando o r2_score\n",
        "import matplotlib.pyplot as plt\n",
        "import numpy as np\n",
        "\n",
        "# Definindo a frequência trimestral e ajustando as datas para o último dia de cada trimestre\n",
        "df_total.index = df_total.index.to_period('Q').to_timestamp(how='end')\n",
        "\n",
        "# Definindo a frequência trimestral (agora que o índice está ajustado para o final de cada trimestre)\n",
        "df_total = df_total.asfreq('Q')\n",
        "\n",
        "# Exibindo o DataFrame atualizado\n",
        "print(df_total)"
      ],
      "metadata": {
        "colab": {
          "base_uri": "https://localhost:8080/"
        },
        "id": "2pVsKariHoMH",
        "outputId": "b66e3041-b221-4201-d16b-b4658441081c"
      },
      "execution_count": null,
      "outputs": [
        {
          "output_type": "stream",
          "name": "stdout",
          "text": [
            "Data\n",
            "2021-03-31 23:59:59.999999999    1497018\n",
            "2021-06-30 23:59:59.999999999    1515111\n",
            "2021-09-30 23:59:59.999999999    1552687\n",
            "2021-12-31 23:59:59.999999999    1576558\n",
            "2022-03-31 23:59:59.999999999    1584914\n",
            "2022-06-30 23:59:59.999999999    1605036\n",
            "2022-09-30 23:59:59.999999999    1622915\n",
            "2022-12-31 23:59:59.999999999    1637070\n",
            "2023-03-31 23:59:59.999999999    1630988\n",
            "2023-06-30 23:59:59.999999999    1644587\n",
            "2023-09-30 23:59:59.999999999    1659765\n",
            "2023-12-31 23:59:59.999999999    1666579\n",
            "2024-03-31 23:59:59.999999999    1665123\n",
            "2024-06-30 23:59:59.999999999    1680350\n",
            "Freq: Q-DEC, Name: Beneficiarios, dtype: int64\n"
          ]
        }
      ]
    },
    {
      "cell_type": "code",
      "source": [
        "from statsmodels.tsa.statespace.sarimax import SARIMAX\n",
        "from sklearn.metrics import mean_squared_error, mean_absolute_error, r2_score\n",
        "import numpy as np\n",
        "import matplotlib.pyplot as plt\n",
        "\n",
        "# Dividindo os dados em 80% treino e 20% teste, mantendo a ordem temporal\n",
        "train_size = int(len(df_total) * 0.8)\n",
        "train_data = df_total.iloc[:train_size]\n",
        "test_data = df_total.iloc[train_size:]\n",
        "\n",
        "\n",
        "# Assumindo que os melhores parâmetros estão em 'best_params'\n",
        "#best_params = {'p': 2, 'd': 1, 'q': 3, 'P': 1, 'D': 0, 'Q': 2, 's': 12}  # Exemplo de valores, substituir pelos reais\n",
        "best_params = {'p': 1, 'd': 0, 'q': 1, 'P': 3, 'D': 0, 'Q': 0, 's': 4}\n",
        "\n",
        "# Passando os parâmetros otimizados para o modelo SARIMA\n",
        "model = SARIMAX(train_data,\n",
        "                order=(best_params['p'], best_params['d'], best_params['q']),\n",
        "                seasonal_order=(best_params['P'], best_params['D'], best_params['Q'], best_params['s']))\n",
        "\n",
        "\n",
        "# Treinando o modelo SARIMA\n",
        "#model = SARIMAX(train_data, order=(2, 1, 3), seasonal_order=(1, 0, 2, 12))\n",
        "model_fit = model.fit()\n",
        "#Best Parameters: {'p': 2, 'd': 1, 'q': 3, 'P': 1, 'D': 0, 'Q': 2, 's': 12}\n",
        "\n",
        "# Fazendo previsões a partir de 2024\n",
        "# Certifique-se de que o índice da previsão corresponde ao intervalo do teste\n",
        "predictions = model_fit.predict(start=test_data.index[0], end=df_total.index[-1])\n",
        "\n",
        "# Avaliando o modelo\n",
        "mse = mean_squared_error(test_data, predictions.loc[test_data.index])\n",
        "rmse = np.sqrt(mse)\n",
        "mae = mean_absolute_error(test_data, predictions.loc[test_data.index])\n",
        "\n",
        "# Calculando o MAPE\n",
        "def mean_absolute_percentage_error(y_true, y_pred):\n",
        "    return np.mean(np.abs((y_true - y_pred) / y_true)) * 100\n",
        "mape = mean_absolute_percentage_error(test_data, predictions.loc[test_data.index])\n",
        "\n",
        "# Calculando o R²\n",
        "r2 = r2_score(test_data, predictions.loc[test_data.index])\n",
        "\n",
        "# Imprimindo as métricas\n",
        "print(f'MSE: {mse}')\n",
        "print(f'RMSE: {rmse}')\n",
        "print(f'MAE: {mae}')\n",
        "print(f'MAPE: {mape}')\n",
        "print(f'R²: {r2}')\n",
        "\n",
        "# Plotando o gráfico\n",
        "plt.figure(figsize=(12, 6))\n",
        "plt.plot(df_total.index, df_total, label='Real')\n",
        "plt.plot(predictions.index, predictions, label='Predito', linestyle='--')\n",
        "plt.legend()\n",
        "plt.title('Previsão de Beneficiários')\n",
        "plt.xlabel('Data')\n",
        "plt.ylabel('Beneficiários')\n",
        "plt.show()\n"
      ],
      "metadata": {
        "colab": {
          "base_uri": "https://localhost:8080/",
          "height": 747
        },
        "id": "4wfNFqT8Eiu5",
        "outputId": "9aa661a5-d674-4bda-834f-b4067aa10c6e"
      },
      "execution_count": null,
      "outputs": [
        {
          "output_type": "stream",
          "name": "stderr",
          "text": [
            "/usr/local/lib/python3.10/dist-packages/statsmodels/tsa/statespace/sarimax.py:966: UserWarning: Non-stationary starting autoregressive parameters found. Using zeros as starting parameters.\n",
            "  warn('Non-stationary starting autoregressive parameters'\n",
            "/usr/local/lib/python3.10/dist-packages/statsmodels/tsa/statespace/sarimax.py:866: UserWarning: Too few observations to estimate starting parameters for seasonal ARMA. All parameters except for variances will be set to zeros.\n",
            "  warn('Too few observations to estimate starting parameters%s.'\n"
          ]
        },
        {
          "output_type": "stream",
          "name": "stdout",
          "text": [
            "MSE: 8326412.15417292\n",
            "RMSE: 2885.5523135394583\n",
            "MAE: 2440.328892914656\n",
            "MAPE: 0.14586221082019668\n",
            "R²: 0.8231023742488985\n"
          ]
        },
        {
          "output_type": "display_data",
          "data": {
            "text/plain": [
              "<Figure size 1200x600 with 1 Axes>"
            ],
            "image/png": "[encoded data removed]"
          },
          "metadata": {}
        }
      ]
    },
    {
      "cell_type": "code",
      "source": [
        "import pandas as pd\n",
        "\n",
        "# Ajuste o período de previsão\n",
        "forecast_dates = pd.date_range(start='2023-06-30', end='2025-12-31', freq='M')\n",
        "\n",
        "# Faça previsões para o período correto\n",
        "forecast = best_model_fit.get_forecast(steps=len(forecast_dates))\n",
        "forecast_mean = forecast.predicted_mean\n",
        "\n",
        "# Verifique se a previsão cobre o período desejado\n",
        "print(\"Comprimento do Período de Previsão:\", len(forecast_dates))\n",
        "print(\"Comprimento das Previsões:\", len(forecast_mean))\n",
        "\n",
        "# Criando o DataFrame para previsões\n",
        "forecast_df = pd.DataFrame(data=forecast_mean.values, index=forecast_dates, columns=['Predito'])\n",
        "\n",
        "# Exibindo as previsões\n",
        "print(forecast_df)\n"
      ],
      "metadata": {
        "colab": {
          "base_uri": "https://localhost:8080/"
        },
        "id": "H5l8WJY_IwV0",
        "outputId": "6840f447-6de5-4e2b-9822-1d8e73ab17da"
      },
      "execution_count": null,
      "outputs": [
        {
          "output_type": "stream",
          "name": "stdout",
          "text": [
            "Comprimento do Período de Previsão: 31\n",
            "Comprimento das Previsões: 31\n",
            "                 Predito\n",
            "2023-06-30  1.672556e+06\n",
            "2023-07-31  1.665594e+06\n",
            "2023-08-31  1.678869e+06\n",
            "2023-09-30  1.693968e+06\n",
            "2023-10-31  1.706894e+06\n",
            "2023-11-30  1.700172e+06\n",
            "2023-12-31  1.713772e+06\n",
            "2024-01-31  1.729243e+06\n",
            "2024-02-29  1.742576e+06\n",
            "2024-03-31  1.736280e+06\n",
            "2024-04-30  1.750322e+06\n",
            "2024-05-31  1.766242e+06\n",
            "2024-06-30  1.780030e+06\n",
            "2024-07-31  1.774193e+06\n",
            "2024-08-31  1.788696e+06\n",
            "2024-09-30  1.805079e+06\n",
            "2024-10-31  1.819332e+06\n",
            "2024-11-30  1.813959e+06\n",
            "2024-12-31  1.828927e+06\n",
            "2025-01-31  1.845776e+06\n",
            "2025-02-28  1.860494e+06\n",
            "2025-03-31  1.855587e+06\n",
            "2025-04-30  1.871020e+06\n",
            "2025-05-31  1.888334e+06\n",
            "2025-06-30  1.903518e+06\n",
            "2025-07-31  1.899077e+06\n",
            "2025-08-31  1.914976e+06\n",
            "2025-09-30  1.932756e+06\n",
            "2025-10-31  1.948405e+06\n",
            "2025-11-30  1.944430e+06\n",
            "2025-12-31  1.960795e+06\n"
          ]
        }
      ]
    },
    {
      "cell_type": "code",
      "source": [
        "# Ajuste o período de previsão\n",
        "forecast_dates = pd.date_range(start='2024-6-30', end='2024-12-31', freq='M')\n",
        "\n",
        "# Fazer previsões para o período correto e obter intervalos de confiança\n",
        "forecast = model_fit.get_forecast(steps=len(forecast_dates))\n",
        "\n",
        "# Previsão média\n",
        "forecast_mean = forecast.predicted_mean\n",
        "\n",
        "# Intervalo de confiança (95%)\n",
        "forecast_conf_int = forecast.conf_int()\n",
        "\n",
        "# Criando o DataFrame para previsões\n",
        "forecast_df = pd.DataFrame(data=forecast_mean.values, index=forecast_dates, columns=['Predito'])\n",
        "\n",
        "# Plotando a série real e as previsões com intervalo de confiança\n",
        "plt.figure(figsize=(12, 6))\n",
        "\n",
        "# Plotando os dados reais\n",
        "plt.plot(df_total.index, df_total.values, label='Real', color='blue')\n",
        "\n",
        "# Plotando as previsões\n",
        "plt.plot(forecast_df.index, forecast_df['Predito'], label='Previsto', color='red', linestyle='--')\n",
        "\n",
        "# Plotando o intervalo de confiança\n",
        "plt.fill_between(forecast_dates, forecast_conf_int.iloc[:, 0], forecast_conf_int.iloc[:, 1], color='pink', alpha=0.3, label='Intervalo de Confiança (95%)')\n",
        "\n",
        "# Configurações do gráfico\n",
        "plt.title('Dados Reais, Previsões e Intervalo de Confiança (95%)')\n",
        "plt.xlabel('Data')\n",
        "plt.ylabel('Número de Beneficiários')\n",
        "plt.legend()\n",
        "plt.grid(True)\n",
        "\n",
        "# Exibir o gráfico\n",
        "plt.show()\n"
      ],
      "metadata": {
        "colab": {
          "base_uri": "https://localhost:8080/",
          "height": 564
        },
        "id": "5MHJULDejQX9",
        "outputId": "6ed38252-8638-4cb7-fa21-b61b56e9480b"
      },
      "execution_count": null,
      "outputs": [
        {
          "output_type": "display_data",
          "data": {
            "text/plain": [
              "<Figure size 1200x600 with 1 Axes>"
            ],
            "image/png": "[encoded data removed]"
          },
          "metadata": {}
        }
      ]
    },
    {
      "cell_type": "code",
      "source": [
        "# Resíduos do modelo\n",
        "residuals = model_fit.resid\n",
        "\n",
        "# Plotando resíduos\n",
        "plt.figure(figsize=(12, 6))\n",
        "plt.plot(residuals)\n",
        "plt.title('Resíduos do Modelo')\n",
        "plt.xlabel('Data')\n",
        "plt.ylabel('Resíduo')\n",
        "plt.show()\n",
        "\n",
        "# Verificando estatísticas dos resíduos\n",
        "print(residuals.describe())\n"
      ],
      "metadata": {
        "colab": {
          "base_uri": "https://localhost:8080/",
          "height": 727
        },
        "id": "E8aKULJl4V_W",
        "outputId": "54ca955a-ff8e-48b1-e3a6-a669b0754d1e"
      },
      "execution_count": null,
      "outputs": [
        {
          "output_type": "display_data",
          "data": {
            "text/plain": [
              "<Figure size 1200x600 with 1 Axes>"
            ],
            "image/png": "[encoded data removed]"
          },
          "metadata": {}
        },
        {
          "output_type": "stream",
          "name": "stdout",
          "text": [
            "count    1.100000e+01\n",
            "mean     1.402802e+05\n",
            "std      4.501584e+05\n",
            "min     -1.351261e+04\n",
            "25%     -1.217629e+02\n",
            "50%      4.514041e+03\n",
            "75%      1.440945e+04\n",
            "max      1.497018e+06\n",
            "dtype: float64\n"
          ]
        }
      ]
    },
    {
      "cell_type": "code",
      "source": [
        "#print(df_total)\n",
        "# Exportando para CSV\n",
        "#df_total.to_csv('dados_beneficiarios.csv')\n",
        "\n",
        "#from google.colab import files\n",
        "#files.download('dados_beneficiarios.csv')"
      ],
      "metadata": {
        "id": "-trTHhOrnh97"
      },
      "execution_count": null,
      "outputs": []
    },
    {
      "cell_type": "code",
      "source": [
        "print(forecast_df)"
      ],
      "metadata": {
        "colab": {
          "base_uri": "https://localhost:8080/"
        },
        "id": "MFxtDmnBHzpK",
        "outputId": "bdc766f5-0b92-4043-a7a5-ec971f392fa5"
      },
      "execution_count": null,
      "outputs": [
        {
          "output_type": "stream",
          "name": "stdout",
          "text": [
            "                 Predito\n",
            "2024-06-30  1.670160e+06\n",
            "2024-07-31  1.664860e+06\n",
            "2024-08-31  1.676874e+06\n",
            "2024-09-30  1.697596e+06\n",
            "2024-10-31  1.710610e+06\n",
            "2024-11-30  1.710657e+06\n",
            "2024-12-31  1.723443e+06\n"
          ]
        }
      ]
    },
    {
      "cell_type": "code",
      "source": [
        "import numpy as np\n",
        "\n",
        "# Passo 1: Filtrar os dados pela última data real disponível\n",
        "ultima_data_real = df['Data'].max()\n",
        "\n",
        "# Filtrar os dados da última data real para todos os municípios\n",
        "df_ultima_data = df[df['Data'] == ultima_data_real]\n",
        "\n",
        "# Calcular o total de beneficiários na última data para todos os municípios\n",
        "total_beneficiarios_ultima_data = df_ultima_data['Beneficiarios'].sum()\n",
        "\n",
        "# Calcular a proporção de beneficiários para cada município na última data\n",
        "df_ultima_data['Proporcao'] = df_ultima_data['Beneficiarios'] / total_beneficiarios_ultima_data\n",
        "\n",
        "# Passo 2: Criar uma coluna de datas no forecast_df a partir do índice\n",
        "forecast_df['Data'] = forecast_df.index\n",
        "\n",
        "# Passo 3: Aplicar a proporção na previsão total de beneficiários para distribuir pelos municípios\n",
        "df_previsao_municipios = pd.DataFrame()\n",
        "\n",
        "# Para cada município, calcular a previsão proporcional com base na última data real\n",
        "for idx, row in df_ultima_data.iterrows():\n",
        "    municipio = row['Municípios']\n",
        "    proporcao = row['Proporcao']\n",
        "\n",
        "    # Distribuir a previsão total (forecast_df['Predito']) para este município usando a proporção\n",
        "    previsao_municipio = forecast_df['Predito'] * proporcao\n",
        "\n",
        "    # Criar um DataFrame para as previsões deste município\n",
        "    df_previsao_municipio = pd.DataFrame({\n",
        "        'Data': forecast_df['Data'],\n",
        "        'id-municipio': row['id-municipio'],\n",
        "        'Municípios': municipio,\n",
        "        'Beneficiarios_Previstos': previsao_municipio\n",
        "    })\n",
        "\n",
        "    # Concatenar ao DataFrame final\n",
        "    df_previsao_municipios = pd.concat([df_previsao_municipios, df_previsao_municipio])\n",
        "\n",
        "# Passo 4: Unir os dados reais com as previsões para visualização\n",
        "df_completo = pd.concat([df, df_previsao_municipios])\n",
        "\n",
        "# Verificar se há valores NaN e substituí-los por 0 ou outro valor apropriado\n",
        "df_completo['Beneficiarios_Previstos'] = df_completo['Beneficiarios_Previstos'].replace([np.inf, -np.inf], np.nan)\n",
        "df_completo['Beneficiarios_Previstos'] = df_completo['Beneficiarios_Previstos'].fillna(0)\n",
        "\n",
        "# Verificar se há valores NaN e substituí-los por 0 ou outro valor apropriado\n",
        "df_completo['Beneficiarios'] = df_completo['Beneficiarios'].replace([np.inf, -np.inf], np.nan)\n",
        "df_completo['Beneficiarios'] = df_completo['Beneficiarios'].fillna(0)\n",
        "\n",
        "# Aplicar o arredondamento para cima em todos os valores da coluna\n",
        "df_completo['Beneficiarios_Previstos'] = np.ceil(df_completo['Beneficiarios_Previstos'].astype(float)).astype(int)\n",
        "df_completo['Beneficiarios'] = np.ceil(df_completo['Beneficiarios'].astype(float)).astype(int)\n",
        "\n",
        "\n",
        "# Exportando o DataFrame final para CSV (para ser usado no Power BI ou Looker Studio)\n",
        "df_completo.to_csv('previsao_beneficiarios_municipios.csv', index=False)\n"
      ],
      "metadata": {
        "colab": {
          "base_uri": "https://localhost:8080/"
        },
        "id": "VhwV6Wok-lMi",
        "outputId": "c7197341-15e9-44da-c79f-82d0f17e3353"
      },
      "execution_count": null,
      "outputs": [
        {
          "output_type": "stream",
          "name": "stderr",
          "text": [
            "<ipython-input-22-6c8bbc60c8de>:13: SettingWithCopyWarning: \n",
            "A value is trying to be set on a copy of a slice from a DataFrame.\n",
            "Try using .loc[row_indexer,col_indexer] = value instead\n",
            "\n",
            "See the caveats in the documentation: https://pandas.pydata.org/pandas-docs/stable/user_guide/indexing.html#returning-a-view-versus-a-copy\n",
            "  df_ultima_data['Proporcao'] = df_ultima_data['Beneficiarios'] / total_beneficiarios_ultima_data\n"
          ]
        }
      ]
    },
    {
      "cell_type": "code",
      "source": [
        "print(df_completo)"
      ],
      "metadata": {
        "colab": {
          "base_uri": "https://localhost:8080/"
        },
        "id": "jwSmxPLUI5Rm",
        "outputId": "d5798dba-9002-4f15-cd4f-4f94afe9fc00"
      },
      "execution_count": null,
      "outputs": [
        {
          "output_type": "stream",
          "name": "stdout",
          "text": [
            "                          Data  Beneficiarios id-municipio        Municípios  \\\n",
            "0                   2024-06-01            472       420005     Abdon Batista   \n",
            "1                   2024-06-01           2063       420010      Abelardo Luz   \n",
            "2                   2024-06-01            484       420020        Agrolândia   \n",
            "3                   2024-06-01            445       420030        Agronômica   \n",
            "4                   2024-06-01           1039       420040         Água Doce   \n",
            "...                        ...            ...          ...               ...   \n",
            "2024-08-31 00:00:00 2024-08-31              0       422000  Balneário Rincão   \n",
            "2024-09-30 00:00:00 2024-09-30              0       422000  Balneário Rincão   \n",
            "2024-10-31 00:00:00 2024-10-31              0       422000  Balneário Rincão   \n",
            "2024-11-30 00:00:00 2024-11-30              0       422000  Balneário Rincão   \n",
            "2024-12-31 00:00:00 2024-12-31              0       422000  Balneário Rincão   \n",
            "\n",
            "                     Beneficiarios_Previstos  \n",
            "0                                          0  \n",
            "1                                          0  \n",
            "2                                          0  \n",
            "3                                          0  \n",
            "4                                          0  \n",
            "...                                      ...  \n",
            "2024-08-31 00:00:00                      694  \n",
            "2024-09-30 00:00:00                      703  \n",
            "2024-10-31 00:00:00                      708  \n",
            "2024-11-30 00:00:00                      708  \n",
            "2024-12-31 00:00:00                      713  \n",
            "\n",
            "[18880 rows x 5 columns]\n"
          ]
        }
      ]
    },
    {
      "cell_type": "code",
      "source": [
        "from google.colab import files\n",
        "files.download('previsao_beneficiarios_municipios.csv')"
      ],
      "metadata": {
        "colab": {
          "base_uri": "https://localhost:8080/",
          "height": 17
        },
        "id": "1i6wQ1TGKELI",
        "outputId": "f2ea4e15-f4d4-412a-a565-c815b51b2634"
      },
      "execution_count": null,
      "outputs": [
        {
          "output_type": "display_data",
          "data": {
            "text/plain": [
              "<IPython.core.display.Javascript object>"
            ],
            "application/javascript": [
              "\n",
              "    async function download(id, filename, size) {\n",
              "      if (!google.colab.kernel.accessAllowed) {\n",
              "        return;\n",
              "      }\n",
              "      const div = document.createElement('div');\n",
              "      const label = document.createElement('label');\n",
              "      label.textContent = `Downloading \"${filename}\": `;\n",
              "      div.appendChild(label);\n",
              "      const progress = document.createElement('progress');\n",
              "      progress.max = size;\n",
              "      div.appendChild(progress);\n",
              "      document.body.appendChild(div);\n",
              "\n",
              "      const buffers = [];\n",
              "      let downloaded = 0;\n",
              "\n",
              "      const channel = await google.colab.kernel.comms.open(id);\n",
              "      // Send a message to notify the kernel that we're ready.\n",
              "      channel.send({})\n",
              "\n",
              "      for await (const message of channel.messages) {\n",
              "        // Send a message to notify the kernel that we're ready.\n",
              "        channel.send({})\n",
              "        if (message.buffers) {\n",
              "          for (const buffer of message.buffers) {\n",
              "            buffers.push(buffer);\n",
              "            downloaded += buffer.byteLength;\n",
              "            progress.value = downloaded;\n",
              "          }\n",
              "        }\n",
              "      }\n",
              "      const blob = new Blob(buffers, {type: 'application/binary'});\n",
              "      const a = document.createElement('a');\n",
              "      a.href = window.URL.createObjectURL(blob);\n",
              "      a.download = filename;\n",
              "      div.appendChild(a);\n",
              "      a.click();\n",
              "      div.remove();\n",
              "    }\n",
              "  "
            ]
          },
          "metadata": {}
        },
        {
          "output_type": "display_data",
          "data": {
            "text/plain": [
              "<IPython.core.display.Javascript object>"
            ],
            "application/javascript": [
              "download(\"download_7938ce98-61ea-4db6-91d7-8a524af199d5\", \"previsao_beneficiarios_municipios.csv\", 711441)"
            ]
          },
          "metadata": {}
        }
      ]
    },
    {
      "cell_type": "code",
      "source": [
        "# Verificar a soma das previsões para cada data\n",
        "soma_previsao_municipios = df_previsao_municipios.groupby('Data')['Beneficiarios_Previstos'].sum()\n",
        "\n",
        "# Comparar com a previsão original (forecast_df['Predito'])\n",
        "comparacao = pd.DataFrame({\n",
        "    'Predito_Total': forecast_df['Predito'],\n",
        "    'Soma_Previsao_Municipios': soma_previsao_municipios\n",
        "})\n",
        "\n",
        "# Exibir a comparação\n",
        "print(comparacao)\n",
        "\n",
        "# Verificar se as diferenças entre as somas são pequenas\n",
        "diferenca = comparacao['Predito_Total'] - comparacao['Soma_Previsao_Municipios']\n",
        "print(f'Diferença máxima: {diferenca.max()}')\n",
        "print(f'Diferença mínima: {diferenca.min()}')\n"
      ],
      "metadata": {
        "colab": {
          "base_uri": "https://localhost:8080/"
        },
        "id": "hKTgDzyltYwS",
        "outputId": "e9b8a378-c250-41c9-90f6-6b812d6cb6fe"
      },
      "execution_count": null,
      "outputs": [
        {
          "output_type": "stream",
          "name": "stdout",
          "text": [
            "            Predito_Total  Soma_Previsao_Municipios\n",
            "2024-06-30   1.670160e+06              1.670160e+06\n",
            "2024-07-31   1.664860e+06              1.664860e+06\n",
            "2024-08-31   1.676874e+06              1.676874e+06\n",
            "2024-09-30   1.697596e+06              1.697596e+06\n",
            "2024-10-31   1.710610e+06              1.710610e+06\n",
            "2024-11-30   1.710657e+06              1.710657e+06\n",
            "2024-12-31   1.723443e+06              1.723443e+06\n",
            "Diferença máxima: 0.0\n",
            "Diferença mínima: 0.0\n"
          ]
        }
      ]
    },
    {
      "cell_type": "code",
      "source": [
        "# Verificar a soma das proporções para a última data real\n",
        "soma_proporcoes = df_ultima_data['Proporcao'].sum()\n",
        "print(f'Soma das proporções (deve ser 1): {soma_proporcoes}')\n"
      ],
      "metadata": {
        "colab": {
          "base_uri": "https://localhost:8080/"
        },
        "id": "445aYUNXthy3",
        "outputId": "811bc336-85b2-47f3-f994-3dfb798fd030"
      },
      "execution_count": null,
      "outputs": [
        {
          "output_type": "stream",
          "name": "stdout",
          "text": [
            "Soma das proporções (deve ser 1): 1.0\n"
          ]
        }
      ]
    }
  ]
}